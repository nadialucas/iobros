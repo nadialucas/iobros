{
 "cells": [
  {
   "cell_type": "code",
   "execution_count": 1,
   "metadata": {},
   "outputs": [
    {
     "data": {
      "text/plain": [
       "array([[0.71179 , 0.849318],\n",
       "       [0.784577, 0.784577],\n",
       "       [0.849318, 0.71179 ]])"
      ]
     },
     "execution_count": 1,
     "metadata": {},
     "output_type": "execute_result"
    }
   ],
   "source": [
    "### Question 1.3.2\n",
    "\n",
    "# import packages\n",
    "import numpy as np\n",
    "import scipy as sp\n",
    "from scipy import optimize\n",
    "import matplotlib.pyplot as plt\n",
    "from scipy.special import expit\n",
    "from operator import itemgetter\n",
    "\n",
    "# calculate fixed point conditions\n",
    "def calc_fp(p, α, δ, x):\n",
    "    f1 = np.exp(x*α - δ*p[1])/(1+np.exp(x*α - δ*p[1])) - p[0]\n",
    "    f2 = np.exp(x*α - δ*p[0])/(1+np.exp(x*α - δ*p[0])) - p[1]\n",
    "    return np.array([f1, f2])\n",
    "\n",
    "# calculate jacobian\n",
    "def calc_jac(p, α, δ, x):\n",
    "    j11 = -1\n",
    "    j12 = -δ*(np.exp(x*α - δ*p[1])/(1+np.exp(x*α - δ*p[1])))/(1+np.exp(x*α - δ*p[1]))\n",
    "    j21 = -δ*(np.exp(x*α - δ*p[0])/(1+np.exp(x*α - δ*p[0])))/(1+np.exp(x*α - δ*p[0]))\n",
    "    j22 = -1\n",
    "    return np.array((j11, j12, j21, j22), dtype = float).reshape(2,2)\n",
    "    \n",
    "\n",
    "# solve using newton's method\n",
    "def newton_solver(p, α, δ, x, tol = 1e-14, maxiter = 10000):\n",
    "    iteration = 1\n",
    "    diff = 100\n",
    "    p = p.reshape((2,1))\n",
    "    while (diff > tol and iteration < maxiter):\n",
    "        f = calc_fp(p, α, δ, x)\n",
    "        j = calc_jac(p, α, δ, x)\n",
    "        p_next = p - np.matmul(np.linalg.inv(j), f)\n",
    "        diff = np.max(np.abs(p_next - p))\n",
    "        p = p_next\n",
    "        iteration += 1\n",
    "    return p_next.flatten()\n",
    "\n",
    "# search over grid for multiple equilibria\n",
    "# thanks to Tanya Rajan for help on the grid search\n",
    "def find_bne(α, δ, x, sym=False):\n",
    "    looper = lambda p_guess: newton_solver(p_guess, α, δ, x)\n",
    "    grid =  np.mgrid[0:1:1e-1, 0:1:1e-1].reshape(2,-1).T\n",
    "    sols = np.round(np.apply_along_axis(looper, 1, grid),6)\n",
    "    eqs = np.unique(sols, axis=0)\n",
    "    if sym == True:\n",
    "        return eqs[np.argmin(np.abs(eqs[:,0] - eqs[:,1])), :]    \n",
    "    return eqs\n",
    "\n",
    "# results\n",
    "find_bne(1,1,1)\n",
    "find_bne(1,1,2)\n",
    "find_bne(3,6,1)\n",
    "find_bne(3,6,2)"
   ]
  },
  {
   "cell_type": "code",
   "execution_count": 2,
   "metadata": {},
   "outputs": [
    {
     "name": "stdout",
     "output_type": "stream",
     "text": [
      "[0.5 0.5] [0.784577 0.784577]\n"
     ]
    }
   ],
   "source": [
    "### Question 1.3.3\n",
    "\n",
    "# set up\n",
    "T = 1000\n",
    "S = 50\n",
    "α0 = 3\n",
    "δ0 = 6\n",
    "\n",
    "# simulate data\n",
    "def sim_sample(α,δ,T):\n",
    "    ε1 = np.random.logistic(0, 1, T*S).reshape(T,S)\n",
    "    ε2 = np.random.logistic(0, 1, T*S).reshape(T,S)\n",
    "    x = (np.random.binomial(1,.5, T*S) + 1).reshape(T,S)\n",
    "    return ε1,ε2,x\n",
    "\n",
    "ε1_sim,ε2_sim,x_sim = sim_sample(3,6,T)\n",
    "\n",
    "# probabilities for each x\n",
    "def find_prob(α, δ, sym=False):\n",
    "    p1,p2 = find_bne(α, δ, 1, sym=sym),find_bne(α, δ, 2, sym=sym)\n",
    "    return p1, p2\n",
    "\n",
    "# symmetric probabilities \n",
    "p1_sim, p2_sim = find_prob(3,6,True)\n",
    "probs_sim = np.zeros((T,S))\n",
    "probs_sim[x_sim == 1] = p1_sim[0]\n",
    "probs_sim[x_sim == 2] = p2_sim[0]\n",
    "print(p1_sim, p2_sim)\n",
    "\n",
    "# y1, y2\n",
    "y1_sim = np.zeros((T,S))\n",
    "y2_sim = np.zeros((T,S))\n",
    "for s in range(S):\n",
    "    for t in range(T):\n",
    "        if (-δ0 * probs_sim[t,s] + α0 * x_sim[t,s] + ε1_sim[t,s]) >= 0:\n",
    "            y1_sim[t,s] = 1\n",
    "        else:\n",
    "            y1_sim[t,s] = 0\n",
    "        if (-δ0 * probs_sim[t,s] + α0 * x_sim[t,s] + ε2_sim[t,s]) >= 0:\n",
    "            y2_sim[t,s] = 1\n",
    "        else:\n",
    "            y2_sim[t,s] = 0\n",
    "\n",
    "# log likelihood function\n",
    "def ll(params, y1, y2, x):\n",
    "    α = params[0]\n",
    "    δ = params[1]\n",
    "    # calculating p for each x value\n",
    "    probs = np.zeros((x.size))\n",
    "    p_x1, p_x2 = find_prob(α, δ, True)\n",
    "    probs[x==1] = p_x1[0]\n",
    "    probs[x==2] = p_x2[0]\n",
    "    # likelihood per market\n",
    "    ll1 = y1*np.log(1/(1+np.exp(δ*probs - α*x))) + (1-y1)*np.log(np.exp(δ*probs - α*x)/(1+np.exp(δ*probs - α*x )))\n",
    "    ll2 = y2*np.log(1/(1+np.exp(δ*probs - α*x))) + (1-y2)*np.log(np.exp(δ*probs - α*x)/(1+np.exp(δ*probs - α*x )))\n",
    "    ll = ll1 + ll2  \n",
    "    return -np.sum(ll)\n",
    "\n",
    "\n"
   ]
  },
  {
   "cell_type": "code",
   "execution_count": 13,
   "metadata": {},
   "outputs": [
    {
     "name": "stdout",
     "output_type": "stream",
     "text": [
      "0\n",
      "1\n",
      "2\n",
      "3\n",
      "4\n"
     ]
    },
    {
     "name": "stderr",
     "output_type": "stream",
     "text": [
      "<ipython-input-8-0f2df1db37f2>:12: RuntimeWarning: overflow encountered in exp\n",
      "  f2 = np.exp(x*α - δ*p[0])/(1+np.exp(x*α - δ*p[0])) - p[1]\n",
      "<ipython-input-8-0f2df1db37f2>:12: RuntimeWarning: invalid value encountered in true_divide\n",
      "  f2 = np.exp(x*α - δ*p[0])/(1+np.exp(x*α - δ*p[0])) - p[1]\n",
      "<ipython-input-8-0f2df1db37f2>:19: RuntimeWarning: overflow encountered in exp\n",
      "  j21 = -δ*(np.exp(x*α - δ*p[0])/(1+np.exp(x*α - δ*p[0])))/(1+np.exp(x*α - δ*p[0]))\n",
      "<ipython-input-8-0f2df1db37f2>:19: RuntimeWarning: invalid value encountered in true_divide\n",
      "  j21 = -δ*(np.exp(x*α - δ*p[0])/(1+np.exp(x*α - δ*p[0])))/(1+np.exp(x*α - δ*p[0]))\n",
      "<ipython-input-8-0f2df1db37f2>:11: RuntimeWarning: overflow encountered in exp\n",
      "  f1 = np.exp(x*α - δ*p[1])/(1+np.exp(x*α - δ*p[1])) - p[0]\n",
      "<ipython-input-8-0f2df1db37f2>:11: RuntimeWarning: invalid value encountered in true_divide\n",
      "  f1 = np.exp(x*α - δ*p[1])/(1+np.exp(x*α - δ*p[1])) - p[0]\n",
      "<ipython-input-8-0f2df1db37f2>:18: RuntimeWarning: overflow encountered in exp\n",
      "  j12 = -δ*(np.exp(x*α - δ*p[1])/(1+np.exp(x*α - δ*p[1])))/(1+np.exp(x*α - δ*p[1]))\n",
      "<ipython-input-8-0f2df1db37f2>:18: RuntimeWarning: invalid value encountered in true_divide\n",
      "  j12 = -δ*(np.exp(x*α - δ*p[1])/(1+np.exp(x*α - δ*p[1])))/(1+np.exp(x*α - δ*p[1]))\n",
      "<ipython-input-8-0f2df1db37f2>:12: RuntimeWarning: overflow encountered in exp\n",
      "  f2 = np.exp(x*α - δ*p[0])/(1+np.exp(x*α - δ*p[0])) - p[1]\n",
      "<ipython-input-8-0f2df1db37f2>:12: RuntimeWarning: invalid value encountered in true_divide\n",
      "  f2 = np.exp(x*α - δ*p[0])/(1+np.exp(x*α - δ*p[0])) - p[1]\n",
      "<ipython-input-8-0f2df1db37f2>:19: RuntimeWarning: overflow encountered in exp\n",
      "  j21 = -δ*(np.exp(x*α - δ*p[0])/(1+np.exp(x*α - δ*p[0])))/(1+np.exp(x*α - δ*p[0]))\n",
      "<ipython-input-8-0f2df1db37f2>:19: RuntimeWarning: invalid value encountered in true_divide\n",
      "  j21 = -δ*(np.exp(x*α - δ*p[0])/(1+np.exp(x*α - δ*p[0])))/(1+np.exp(x*α - δ*p[0]))\n",
      "<ipython-input-8-0f2df1db37f2>:11: RuntimeWarning: overflow encountered in exp\n",
      "  f1 = np.exp(x*α - δ*p[1])/(1+np.exp(x*α - δ*p[1])) - p[0]\n",
      "<ipython-input-8-0f2df1db37f2>:11: RuntimeWarning: invalid value encountered in true_divide\n",
      "  f1 = np.exp(x*α - δ*p[1])/(1+np.exp(x*α - δ*p[1])) - p[0]\n",
      "<ipython-input-8-0f2df1db37f2>:18: RuntimeWarning: overflow encountered in exp\n",
      "  j12 = -δ*(np.exp(x*α - δ*p[1])/(1+np.exp(x*α - δ*p[1])))/(1+np.exp(x*α - δ*p[1]))\n",
      "<ipython-input-8-0f2df1db37f2>:18: RuntimeWarning: invalid value encountered in true_divide\n",
      "  j12 = -δ*(np.exp(x*α - δ*p[1])/(1+np.exp(x*α - δ*p[1])))/(1+np.exp(x*α - δ*p[1]))\n"
     ]
    },
    {
     "name": "stdout",
     "output_type": "stream",
     "text": [
      "5\n",
      "6\n"
     ]
    },
    {
     "name": "stderr",
     "output_type": "stream",
     "text": [
      "<ipython-input-8-0f2df1db37f2>:11: RuntimeWarning: overflow encountered in exp\n",
      "  f1 = np.exp(x*α - δ*p[1])/(1+np.exp(x*α - δ*p[1])) - p[0]\n",
      "<ipython-input-8-0f2df1db37f2>:11: RuntimeWarning: invalid value encountered in true_divide\n",
      "  f1 = np.exp(x*α - δ*p[1])/(1+np.exp(x*α - δ*p[1])) - p[0]\n",
      "<ipython-input-8-0f2df1db37f2>:18: RuntimeWarning: overflow encountered in exp\n",
      "  j12 = -δ*(np.exp(x*α - δ*p[1])/(1+np.exp(x*α - δ*p[1])))/(1+np.exp(x*α - δ*p[1]))\n",
      "<ipython-input-8-0f2df1db37f2>:18: RuntimeWarning: invalid value encountered in true_divide\n",
      "  j12 = -δ*(np.exp(x*α - δ*p[1])/(1+np.exp(x*α - δ*p[1])))/(1+np.exp(x*α - δ*p[1]))\n",
      "<ipython-input-8-0f2df1db37f2>:12: RuntimeWarning: overflow encountered in exp\n",
      "  f2 = np.exp(x*α - δ*p[0])/(1+np.exp(x*α - δ*p[0])) - p[1]\n",
      "<ipython-input-8-0f2df1db37f2>:12: RuntimeWarning: invalid value encountered in true_divide\n",
      "  f2 = np.exp(x*α - δ*p[0])/(1+np.exp(x*α - δ*p[0])) - p[1]\n",
      "<ipython-input-8-0f2df1db37f2>:19: RuntimeWarning: overflow encountered in exp\n",
      "  j21 = -δ*(np.exp(x*α - δ*p[0])/(1+np.exp(x*α - δ*p[0])))/(1+np.exp(x*α - δ*p[0]))\n",
      "<ipython-input-8-0f2df1db37f2>:19: RuntimeWarning: invalid value encountered in true_divide\n",
      "  j21 = -δ*(np.exp(x*α - δ*p[0])/(1+np.exp(x*α - δ*p[0])))/(1+np.exp(x*α - δ*p[0]))\n",
      "<ipython-input-8-0f2df1db37f2>:11: RuntimeWarning: overflow encountered in exp\n",
      "  f1 = np.exp(x*α - δ*p[1])/(1+np.exp(x*α - δ*p[1])) - p[0]\n",
      "<ipython-input-8-0f2df1db37f2>:11: RuntimeWarning: invalid value encountered in true_divide\n",
      "  f1 = np.exp(x*α - δ*p[1])/(1+np.exp(x*α - δ*p[1])) - p[0]\n",
      "<ipython-input-8-0f2df1db37f2>:18: RuntimeWarning: overflow encountered in exp\n",
      "  j12 = -δ*(np.exp(x*α - δ*p[1])/(1+np.exp(x*α - δ*p[1])))/(1+np.exp(x*α - δ*p[1]))\n",
      "<ipython-input-8-0f2df1db37f2>:18: RuntimeWarning: invalid value encountered in true_divide\n",
      "  j12 = -δ*(np.exp(x*α - δ*p[1])/(1+np.exp(x*α - δ*p[1])))/(1+np.exp(x*α - δ*p[1]))\n",
      "<ipython-input-8-0f2df1db37f2>:12: RuntimeWarning: overflow encountered in exp\n",
      "  f2 = np.exp(x*α - δ*p[0])/(1+np.exp(x*α - δ*p[0])) - p[1]\n",
      "<ipython-input-8-0f2df1db37f2>:12: RuntimeWarning: invalid value encountered in true_divide\n",
      "  f2 = np.exp(x*α - δ*p[0])/(1+np.exp(x*α - δ*p[0])) - p[1]\n",
      "<ipython-input-8-0f2df1db37f2>:19: RuntimeWarning: overflow encountered in exp\n",
      "  j21 = -δ*(np.exp(x*α - δ*p[0])/(1+np.exp(x*α - δ*p[0])))/(1+np.exp(x*α - δ*p[0]))\n",
      "<ipython-input-8-0f2df1db37f2>:19: RuntimeWarning: invalid value encountered in true_divide\n",
      "  j21 = -δ*(np.exp(x*α - δ*p[0])/(1+np.exp(x*α - δ*p[0])))/(1+np.exp(x*α - δ*p[0]))\n"
     ]
    },
    {
     "name": "stdout",
     "output_type": "stream",
     "text": [
      "7\n",
      "8\n",
      "9\n"
     ]
    },
    {
     "name": "stderr",
     "output_type": "stream",
     "text": [
      "<ipython-input-8-0f2df1db37f2>:11: RuntimeWarning: overflow encountered in exp\n",
      "  f1 = np.exp(x*α - δ*p[1])/(1+np.exp(x*α - δ*p[1])) - p[0]\n",
      "<ipython-input-8-0f2df1db37f2>:11: RuntimeWarning: invalid value encountered in true_divide\n",
      "  f1 = np.exp(x*α - δ*p[1])/(1+np.exp(x*α - δ*p[1])) - p[0]\n",
      "<ipython-input-8-0f2df1db37f2>:18: RuntimeWarning: overflow encountered in exp\n",
      "  j12 = -δ*(np.exp(x*α - δ*p[1])/(1+np.exp(x*α - δ*p[1])))/(1+np.exp(x*α - δ*p[1]))\n",
      "<ipython-input-8-0f2df1db37f2>:18: RuntimeWarning: invalid value encountered in true_divide\n",
      "  j12 = -δ*(np.exp(x*α - δ*p[1])/(1+np.exp(x*α - δ*p[1])))/(1+np.exp(x*α - δ*p[1]))\n",
      "<ipython-input-8-0f2df1db37f2>:12: RuntimeWarning: overflow encountered in exp\n",
      "  f2 = np.exp(x*α - δ*p[0])/(1+np.exp(x*α - δ*p[0])) - p[1]\n",
      "<ipython-input-8-0f2df1db37f2>:12: RuntimeWarning: invalid value encountered in true_divide\n",
      "  f2 = np.exp(x*α - δ*p[0])/(1+np.exp(x*α - δ*p[0])) - p[1]\n",
      "<ipython-input-8-0f2df1db37f2>:19: RuntimeWarning: overflow encountered in exp\n",
      "  j21 = -δ*(np.exp(x*α - δ*p[0])/(1+np.exp(x*α - δ*p[0])))/(1+np.exp(x*α - δ*p[0]))\n",
      "<ipython-input-8-0f2df1db37f2>:19: RuntimeWarning: invalid value encountered in true_divide\n",
      "  j21 = -δ*(np.exp(x*α - δ*p[0])/(1+np.exp(x*α - δ*p[0])))/(1+np.exp(x*α - δ*p[0]))\n",
      "<ipython-input-8-0f2df1db37f2>:11: RuntimeWarning: overflow encountered in exp\n",
      "  f1 = np.exp(x*α - δ*p[1])/(1+np.exp(x*α - δ*p[1])) - p[0]\n",
      "<ipython-input-8-0f2df1db37f2>:11: RuntimeWarning: invalid value encountered in true_divide\n",
      "  f1 = np.exp(x*α - δ*p[1])/(1+np.exp(x*α - δ*p[1])) - p[0]\n",
      "<ipython-input-8-0f2df1db37f2>:18: RuntimeWarning: overflow encountered in exp\n",
      "  j12 = -δ*(np.exp(x*α - δ*p[1])/(1+np.exp(x*α - δ*p[1])))/(1+np.exp(x*α - δ*p[1]))\n",
      "<ipython-input-8-0f2df1db37f2>:18: RuntimeWarning: invalid value encountered in true_divide\n",
      "  j12 = -δ*(np.exp(x*α - δ*p[1])/(1+np.exp(x*α - δ*p[1])))/(1+np.exp(x*α - δ*p[1]))\n",
      "<ipython-input-8-0f2df1db37f2>:12: RuntimeWarning: overflow encountered in exp\n",
      "  f2 = np.exp(x*α - δ*p[0])/(1+np.exp(x*α - δ*p[0])) - p[1]\n",
      "<ipython-input-8-0f2df1db37f2>:12: RuntimeWarning: invalid value encountered in true_divide\n",
      "  f2 = np.exp(x*α - δ*p[0])/(1+np.exp(x*α - δ*p[0])) - p[1]\n",
      "<ipython-input-8-0f2df1db37f2>:19: RuntimeWarning: overflow encountered in exp\n",
      "  j21 = -δ*(np.exp(x*α - δ*p[0])/(1+np.exp(x*α - δ*p[0])))/(1+np.exp(x*α - δ*p[0]))\n",
      "<ipython-input-8-0f2df1db37f2>:19: RuntimeWarning: invalid value encountered in true_divide\n",
      "  j21 = -δ*(np.exp(x*α - δ*p[0])/(1+np.exp(x*α - δ*p[0])))/(1+np.exp(x*α - δ*p[0]))\n"
     ]
    },
    {
     "name": "stdout",
     "output_type": "stream",
     "text": [
      "10\n",
      "11\n",
      "12\n",
      "13\n",
      "14\n",
      "15\n",
      "16\n",
      "17\n",
      "18\n",
      "19\n"
     ]
    },
    {
     "name": "stderr",
     "output_type": "stream",
     "text": [
      "<ipython-input-8-0f2df1db37f2>:12: RuntimeWarning: overflow encountered in exp\n",
      "  f2 = np.exp(x*α - δ*p[0])/(1+np.exp(x*α - δ*p[0])) - p[1]\n",
      "<ipython-input-8-0f2df1db37f2>:12: RuntimeWarning: invalid value encountered in true_divide\n",
      "  f2 = np.exp(x*α - δ*p[0])/(1+np.exp(x*α - δ*p[0])) - p[1]\n",
      "<ipython-input-8-0f2df1db37f2>:19: RuntimeWarning: overflow encountered in exp\n",
      "  j21 = -δ*(np.exp(x*α - δ*p[0])/(1+np.exp(x*α - δ*p[0])))/(1+np.exp(x*α - δ*p[0]))\n",
      "<ipython-input-8-0f2df1db37f2>:19: RuntimeWarning: invalid value encountered in true_divide\n",
      "  j21 = -δ*(np.exp(x*α - δ*p[0])/(1+np.exp(x*α - δ*p[0])))/(1+np.exp(x*α - δ*p[0]))\n",
      "<ipython-input-8-0f2df1db37f2>:11: RuntimeWarning: overflow encountered in exp\n",
      "  f1 = np.exp(x*α - δ*p[1])/(1+np.exp(x*α - δ*p[1])) - p[0]\n",
      "<ipython-input-8-0f2df1db37f2>:11: RuntimeWarning: invalid value encountered in true_divide\n",
      "  f1 = np.exp(x*α - δ*p[1])/(1+np.exp(x*α - δ*p[1])) - p[0]\n",
      "<ipython-input-8-0f2df1db37f2>:18: RuntimeWarning: overflow encountered in exp\n",
      "  j12 = -δ*(np.exp(x*α - δ*p[1])/(1+np.exp(x*α - δ*p[1])))/(1+np.exp(x*α - δ*p[1]))\n",
      "<ipython-input-8-0f2df1db37f2>:18: RuntimeWarning: invalid value encountered in true_divide\n",
      "  j12 = -δ*(np.exp(x*α - δ*p[1])/(1+np.exp(x*α - δ*p[1])))/(1+np.exp(x*α - δ*p[1]))\n"
     ]
    },
    {
     "name": "stdout",
     "output_type": "stream",
     "text": [
      "20\n",
      "21\n"
     ]
    },
    {
     "name": "stderr",
     "output_type": "stream",
     "text": [
      "<ipython-input-8-0f2df1db37f2>:11: RuntimeWarning: overflow encountered in exp\n",
      "  f1 = np.exp(x*α - δ*p[1])/(1+np.exp(x*α - δ*p[1])) - p[0]\n",
      "<ipython-input-8-0f2df1db37f2>:11: RuntimeWarning: invalid value encountered in true_divide\n",
      "  f1 = np.exp(x*α - δ*p[1])/(1+np.exp(x*α - δ*p[1])) - p[0]\n",
      "<ipython-input-8-0f2df1db37f2>:18: RuntimeWarning: overflow encountered in exp\n",
      "  j12 = -δ*(np.exp(x*α - δ*p[1])/(1+np.exp(x*α - δ*p[1])))/(1+np.exp(x*α - δ*p[1]))\n",
      "<ipython-input-8-0f2df1db37f2>:18: RuntimeWarning: invalid value encountered in true_divide\n",
      "  j12 = -δ*(np.exp(x*α - δ*p[1])/(1+np.exp(x*α - δ*p[1])))/(1+np.exp(x*α - δ*p[1]))\n",
      "<ipython-input-8-0f2df1db37f2>:12: RuntimeWarning: overflow encountered in exp\n",
      "  f2 = np.exp(x*α - δ*p[0])/(1+np.exp(x*α - δ*p[0])) - p[1]\n",
      "<ipython-input-8-0f2df1db37f2>:12: RuntimeWarning: invalid value encountered in true_divide\n",
      "  f2 = np.exp(x*α - δ*p[0])/(1+np.exp(x*α - δ*p[0])) - p[1]\n",
      "<ipython-input-8-0f2df1db37f2>:19: RuntimeWarning: overflow encountered in exp\n",
      "  j21 = -δ*(np.exp(x*α - δ*p[0])/(1+np.exp(x*α - δ*p[0])))/(1+np.exp(x*α - δ*p[0]))\n",
      "<ipython-input-8-0f2df1db37f2>:19: RuntimeWarning: invalid value encountered in true_divide\n",
      "  j21 = -δ*(np.exp(x*α - δ*p[0])/(1+np.exp(x*α - δ*p[0])))/(1+np.exp(x*α - δ*p[0]))\n",
      "<ipython-input-8-0f2df1db37f2>:11: RuntimeWarning: overflow encountered in exp\n",
      "  f1 = np.exp(x*α - δ*p[1])/(1+np.exp(x*α - δ*p[1])) - p[0]\n",
      "<ipython-input-8-0f2df1db37f2>:11: RuntimeWarning: invalid value encountered in true_divide\n",
      "  f1 = np.exp(x*α - δ*p[1])/(1+np.exp(x*α - δ*p[1])) - p[0]\n",
      "<ipython-input-8-0f2df1db37f2>:18: RuntimeWarning: overflow encountered in exp\n",
      "  j12 = -δ*(np.exp(x*α - δ*p[1])/(1+np.exp(x*α - δ*p[1])))/(1+np.exp(x*α - δ*p[1]))\n",
      "<ipython-input-8-0f2df1db37f2>:18: RuntimeWarning: invalid value encountered in true_divide\n",
      "  j12 = -δ*(np.exp(x*α - δ*p[1])/(1+np.exp(x*α - δ*p[1])))/(1+np.exp(x*α - δ*p[1]))\n",
      "<ipython-input-8-0f2df1db37f2>:12: RuntimeWarning: overflow encountered in exp\n",
      "  f2 = np.exp(x*α - δ*p[0])/(1+np.exp(x*α - δ*p[0])) - p[1]\n",
      "<ipython-input-8-0f2df1db37f2>:12: RuntimeWarning: invalid value encountered in true_divide\n",
      "  f2 = np.exp(x*α - δ*p[0])/(1+np.exp(x*α - δ*p[0])) - p[1]\n",
      "<ipython-input-8-0f2df1db37f2>:19: RuntimeWarning: overflow encountered in exp\n",
      "  j21 = -δ*(np.exp(x*α - δ*p[0])/(1+np.exp(x*α - δ*p[0])))/(1+np.exp(x*α - δ*p[0]))\n",
      "<ipython-input-8-0f2df1db37f2>:19: RuntimeWarning: invalid value encountered in true_divide\n",
      "  j21 = -δ*(np.exp(x*α - δ*p[0])/(1+np.exp(x*α - δ*p[0])))/(1+np.exp(x*α - δ*p[0]))\n"
     ]
    },
    {
     "name": "stdout",
     "output_type": "stream",
     "text": [
      "22\n",
      "23\n",
      "24\n",
      "25\n",
      "26\n"
     ]
    },
    {
     "name": "stderr",
     "output_type": "stream",
     "text": [
      "<ipython-input-8-0f2df1db37f2>:11: RuntimeWarning: overflow encountered in exp\n",
      "  f1 = np.exp(x*α - δ*p[1])/(1+np.exp(x*α - δ*p[1])) - p[0]\n",
      "<ipython-input-8-0f2df1db37f2>:11: RuntimeWarning: invalid value encountered in true_divide\n",
      "  f1 = np.exp(x*α - δ*p[1])/(1+np.exp(x*α - δ*p[1])) - p[0]\n",
      "<ipython-input-8-0f2df1db37f2>:18: RuntimeWarning: overflow encountered in exp\n",
      "  j12 = -δ*(np.exp(x*α - δ*p[1])/(1+np.exp(x*α - δ*p[1])))/(1+np.exp(x*α - δ*p[1]))\n",
      "<ipython-input-8-0f2df1db37f2>:18: RuntimeWarning: invalid value encountered in true_divide\n",
      "  j12 = -δ*(np.exp(x*α - δ*p[1])/(1+np.exp(x*α - δ*p[1])))/(1+np.exp(x*α - δ*p[1]))\n",
      "<ipython-input-8-0f2df1db37f2>:12: RuntimeWarning: overflow encountered in exp\n",
      "  f2 = np.exp(x*α - δ*p[0])/(1+np.exp(x*α - δ*p[0])) - p[1]\n",
      "<ipython-input-8-0f2df1db37f2>:12: RuntimeWarning: invalid value encountered in true_divide\n",
      "  f2 = np.exp(x*α - δ*p[0])/(1+np.exp(x*α - δ*p[0])) - p[1]\n",
      "<ipython-input-8-0f2df1db37f2>:19: RuntimeWarning: overflow encountered in exp\n",
      "  j21 = -δ*(np.exp(x*α - δ*p[0])/(1+np.exp(x*α - δ*p[0])))/(1+np.exp(x*α - δ*p[0]))\n",
      "<ipython-input-8-0f2df1db37f2>:19: RuntimeWarning: invalid value encountered in true_divide\n",
      "  j21 = -δ*(np.exp(x*α - δ*p[0])/(1+np.exp(x*α - δ*p[0])))/(1+np.exp(x*α - δ*p[0]))\n",
      "<ipython-input-8-0f2df1db37f2>:11: RuntimeWarning: overflow encountered in exp\n",
      "  f1 = np.exp(x*α - δ*p[1])/(1+np.exp(x*α - δ*p[1])) - p[0]\n",
      "<ipython-input-8-0f2df1db37f2>:11: RuntimeWarning: invalid value encountered in true_divide\n",
      "  f1 = np.exp(x*α - δ*p[1])/(1+np.exp(x*α - δ*p[1])) - p[0]\n",
      "<ipython-input-8-0f2df1db37f2>:18: RuntimeWarning: overflow encountered in exp\n",
      "  j12 = -δ*(np.exp(x*α - δ*p[1])/(1+np.exp(x*α - δ*p[1])))/(1+np.exp(x*α - δ*p[1]))\n",
      "<ipython-input-8-0f2df1db37f2>:18: RuntimeWarning: invalid value encountered in true_divide\n",
      "  j12 = -δ*(np.exp(x*α - δ*p[1])/(1+np.exp(x*α - δ*p[1])))/(1+np.exp(x*α - δ*p[1]))\n",
      "<ipython-input-8-0f2df1db37f2>:12: RuntimeWarning: overflow encountered in exp\n",
      "  f2 = np.exp(x*α - δ*p[0])/(1+np.exp(x*α - δ*p[0])) - p[1]\n",
      "<ipython-input-8-0f2df1db37f2>:12: RuntimeWarning: invalid value encountered in true_divide\n",
      "  f2 = np.exp(x*α - δ*p[0])/(1+np.exp(x*α - δ*p[0])) - p[1]\n",
      "<ipython-input-8-0f2df1db37f2>:19: RuntimeWarning: overflow encountered in exp\n",
      "  j21 = -δ*(np.exp(x*α - δ*p[0])/(1+np.exp(x*α - δ*p[0])))/(1+np.exp(x*α - δ*p[0]))\n",
      "<ipython-input-8-0f2df1db37f2>:19: RuntimeWarning: invalid value encountered in true_divide\n",
      "  j21 = -δ*(np.exp(x*α - δ*p[0])/(1+np.exp(x*α - δ*p[0])))/(1+np.exp(x*α - δ*p[0]))\n"
     ]
    },
    {
     "name": "stdout",
     "output_type": "stream",
     "text": [
      "27\n"
     ]
    },
    {
     "name": "stderr",
     "output_type": "stream",
     "text": [
      "<ipython-input-8-0f2df1db37f2>:12: RuntimeWarning: overflow encountered in exp\n",
      "  f2 = np.exp(x*α - δ*p[0])/(1+np.exp(x*α - δ*p[0])) - p[1]\n",
      "<ipython-input-8-0f2df1db37f2>:12: RuntimeWarning: invalid value encountered in true_divide\n",
      "  f2 = np.exp(x*α - δ*p[0])/(1+np.exp(x*α - δ*p[0])) - p[1]\n",
      "<ipython-input-8-0f2df1db37f2>:19: RuntimeWarning: overflow encountered in exp\n",
      "  j21 = -δ*(np.exp(x*α - δ*p[0])/(1+np.exp(x*α - δ*p[0])))/(1+np.exp(x*α - δ*p[0]))\n",
      "<ipython-input-8-0f2df1db37f2>:19: RuntimeWarning: invalid value encountered in true_divide\n",
      "  j21 = -δ*(np.exp(x*α - δ*p[0])/(1+np.exp(x*α - δ*p[0])))/(1+np.exp(x*α - δ*p[0]))\n",
      "<ipython-input-8-0f2df1db37f2>:11: RuntimeWarning: overflow encountered in exp\n",
      "  f1 = np.exp(x*α - δ*p[1])/(1+np.exp(x*α - δ*p[1])) - p[0]\n",
      "<ipython-input-8-0f2df1db37f2>:11: RuntimeWarning: invalid value encountered in true_divide\n",
      "  f1 = np.exp(x*α - δ*p[1])/(1+np.exp(x*α - δ*p[1])) - p[0]\n",
      "<ipython-input-8-0f2df1db37f2>:18: RuntimeWarning: overflow encountered in exp\n",
      "  j12 = -δ*(np.exp(x*α - δ*p[1])/(1+np.exp(x*α - δ*p[1])))/(1+np.exp(x*α - δ*p[1]))\n",
      "<ipython-input-8-0f2df1db37f2>:18: RuntimeWarning: invalid value encountered in true_divide\n",
      "  j12 = -δ*(np.exp(x*α - δ*p[1])/(1+np.exp(x*α - δ*p[1])))/(1+np.exp(x*α - δ*p[1]))\n",
      "<ipython-input-8-0f2df1db37f2>:12: RuntimeWarning: overflow encountered in exp\n",
      "  f2 = np.exp(x*α - δ*p[0])/(1+np.exp(x*α - δ*p[0])) - p[1]\n",
      "<ipython-input-8-0f2df1db37f2>:12: RuntimeWarning: invalid value encountered in true_divide\n",
      "  f2 = np.exp(x*α - δ*p[0])/(1+np.exp(x*α - δ*p[0])) - p[1]\n",
      "<ipython-input-8-0f2df1db37f2>:19: RuntimeWarning: overflow encountered in exp\n",
      "  j21 = -δ*(np.exp(x*α - δ*p[0])/(1+np.exp(x*α - δ*p[0])))/(1+np.exp(x*α - δ*p[0]))\n",
      "<ipython-input-8-0f2df1db37f2>:19: RuntimeWarning: invalid value encountered in true_divide\n",
      "  j21 = -δ*(np.exp(x*α - δ*p[0])/(1+np.exp(x*α - δ*p[0])))/(1+np.exp(x*α - δ*p[0]))\n",
      "<ipython-input-8-0f2df1db37f2>:11: RuntimeWarning: overflow encountered in exp\n",
      "  f1 = np.exp(x*α - δ*p[1])/(1+np.exp(x*α - δ*p[1])) - p[0]\n",
      "<ipython-input-8-0f2df1db37f2>:11: RuntimeWarning: invalid value encountered in true_divide\n",
      "  f1 = np.exp(x*α - δ*p[1])/(1+np.exp(x*α - δ*p[1])) - p[0]\n",
      "<ipython-input-8-0f2df1db37f2>:18: RuntimeWarning: overflow encountered in exp\n",
      "  j12 = -δ*(np.exp(x*α - δ*p[1])/(1+np.exp(x*α - δ*p[1])))/(1+np.exp(x*α - δ*p[1]))\n",
      "<ipython-input-8-0f2df1db37f2>:18: RuntimeWarning: invalid value encountered in true_divide\n",
      "  j12 = -δ*(np.exp(x*α - δ*p[1])/(1+np.exp(x*α - δ*p[1])))/(1+np.exp(x*α - δ*p[1]))\n"
     ]
    },
    {
     "name": "stdout",
     "output_type": "stream",
     "text": [
      "28\n",
      "29\n"
     ]
    },
    {
     "name": "stderr",
     "output_type": "stream",
     "text": [
      "<ipython-input-8-0f2df1db37f2>:11: RuntimeWarning: overflow encountered in exp\n",
      "  f1 = np.exp(x*α - δ*p[1])/(1+np.exp(x*α - δ*p[1])) - p[0]\n",
      "<ipython-input-8-0f2df1db37f2>:11: RuntimeWarning: invalid value encountered in true_divide\n",
      "  f1 = np.exp(x*α - δ*p[1])/(1+np.exp(x*α - δ*p[1])) - p[0]\n",
      "<ipython-input-8-0f2df1db37f2>:18: RuntimeWarning: overflow encountered in exp\n",
      "  j12 = -δ*(np.exp(x*α - δ*p[1])/(1+np.exp(x*α - δ*p[1])))/(1+np.exp(x*α - δ*p[1]))\n",
      "<ipython-input-8-0f2df1db37f2>:18: RuntimeWarning: invalid value encountered in true_divide\n",
      "  j12 = -δ*(np.exp(x*α - δ*p[1])/(1+np.exp(x*α - δ*p[1])))/(1+np.exp(x*α - δ*p[1]))\n",
      "<ipython-input-8-0f2df1db37f2>:12: RuntimeWarning: overflow encountered in exp\n",
      "  f2 = np.exp(x*α - δ*p[0])/(1+np.exp(x*α - δ*p[0])) - p[1]\n",
      "<ipython-input-8-0f2df1db37f2>:12: RuntimeWarning: invalid value encountered in true_divide\n",
      "  f2 = np.exp(x*α - δ*p[0])/(1+np.exp(x*α - δ*p[0])) - p[1]\n",
      "<ipython-input-8-0f2df1db37f2>:19: RuntimeWarning: overflow encountered in exp\n",
      "  j21 = -δ*(np.exp(x*α - δ*p[0])/(1+np.exp(x*α - δ*p[0])))/(1+np.exp(x*α - δ*p[0]))\n",
      "<ipython-input-8-0f2df1db37f2>:19: RuntimeWarning: invalid value encountered in true_divide\n",
      "  j21 = -δ*(np.exp(x*α - δ*p[0])/(1+np.exp(x*α - δ*p[0])))/(1+np.exp(x*α - δ*p[0]))\n",
      "<ipython-input-8-0f2df1db37f2>:11: RuntimeWarning: overflow encountered in exp\n",
      "  f1 = np.exp(x*α - δ*p[1])/(1+np.exp(x*α - δ*p[1])) - p[0]\n",
      "<ipython-input-8-0f2df1db37f2>:11: RuntimeWarning: invalid value encountered in true_divide\n",
      "  f1 = np.exp(x*α - δ*p[1])/(1+np.exp(x*α - δ*p[1])) - p[0]\n",
      "<ipython-input-8-0f2df1db37f2>:18: RuntimeWarning: overflow encountered in exp\n",
      "  j12 = -δ*(np.exp(x*α - δ*p[1])/(1+np.exp(x*α - δ*p[1])))/(1+np.exp(x*α - δ*p[1]))\n",
      "<ipython-input-8-0f2df1db37f2>:18: RuntimeWarning: invalid value encountered in true_divide\n",
      "  j12 = -δ*(np.exp(x*α - δ*p[1])/(1+np.exp(x*α - δ*p[1])))/(1+np.exp(x*α - δ*p[1]))\n",
      "<ipython-input-8-0f2df1db37f2>:12: RuntimeWarning: overflow encountered in exp\n",
      "  f2 = np.exp(x*α - δ*p[0])/(1+np.exp(x*α - δ*p[0])) - p[1]\n",
      "<ipython-input-8-0f2df1db37f2>:12: RuntimeWarning: invalid value encountered in true_divide\n",
      "  f2 = np.exp(x*α - δ*p[0])/(1+np.exp(x*α - δ*p[0])) - p[1]\n",
      "<ipython-input-8-0f2df1db37f2>:19: RuntimeWarning: overflow encountered in exp\n",
      "  j21 = -δ*(np.exp(x*α - δ*p[0])/(1+np.exp(x*α - δ*p[0])))/(1+np.exp(x*α - δ*p[0]))\n",
      "<ipython-input-8-0f2df1db37f2>:19: RuntimeWarning: invalid value encountered in true_divide\n",
      "  j21 = -δ*(np.exp(x*α - δ*p[0])/(1+np.exp(x*α - δ*p[0])))/(1+np.exp(x*α - δ*p[0]))\n",
      "<ipython-input-8-0f2df1db37f2>:11: RuntimeWarning: overflow encountered in exp\n",
      "  f1 = np.exp(x*α - δ*p[1])/(1+np.exp(x*α - δ*p[1])) - p[0]\n",
      "<ipython-input-8-0f2df1db37f2>:11: RuntimeWarning: invalid value encountered in true_divide\n",
      "  f1 = np.exp(x*α - δ*p[1])/(1+np.exp(x*α - δ*p[1])) - p[0]\n",
      "<ipython-input-8-0f2df1db37f2>:18: RuntimeWarning: overflow encountered in exp\n",
      "  j12 = -δ*(np.exp(x*α - δ*p[1])/(1+np.exp(x*α - δ*p[1])))/(1+np.exp(x*α - δ*p[1]))\n",
      "<ipython-input-8-0f2df1db37f2>:18: RuntimeWarning: invalid value encountered in true_divide\n",
      "  j12 = -δ*(np.exp(x*α - δ*p[1])/(1+np.exp(x*α - δ*p[1])))/(1+np.exp(x*α - δ*p[1]))\n",
      "<ipython-input-8-0f2df1db37f2>:12: RuntimeWarning: overflow encountered in exp\n",
      "  f2 = np.exp(x*α - δ*p[0])/(1+np.exp(x*α - δ*p[0])) - p[1]\n",
      "<ipython-input-8-0f2df1db37f2>:12: RuntimeWarning: invalid value encountered in true_divide\n",
      "  f2 = np.exp(x*α - δ*p[0])/(1+np.exp(x*α - δ*p[0])) - p[1]\n",
      "<ipython-input-8-0f2df1db37f2>:19: RuntimeWarning: overflow encountered in exp\n",
      "  j21 = -δ*(np.exp(x*α - δ*p[0])/(1+np.exp(x*α - δ*p[0])))/(1+np.exp(x*α - δ*p[0]))\n",
      "<ipython-input-8-0f2df1db37f2>:19: RuntimeWarning: invalid value encountered in true_divide\n",
      "  j21 = -δ*(np.exp(x*α - δ*p[0])/(1+np.exp(x*α - δ*p[0])))/(1+np.exp(x*α - δ*p[0]))\n",
      "<ipython-input-8-0f2df1db37f2>:11: RuntimeWarning: overflow encountered in exp\n",
      "  f1 = np.exp(x*α - δ*p[1])/(1+np.exp(x*α - δ*p[1])) - p[0]\n",
      "<ipython-input-8-0f2df1db37f2>:11: RuntimeWarning: invalid value encountered in true_divide\n",
      "  f1 = np.exp(x*α - δ*p[1])/(1+np.exp(x*α - δ*p[1])) - p[0]\n",
      "<ipython-input-8-0f2df1db37f2>:18: RuntimeWarning: overflow encountered in exp\n",
      "  j12 = -δ*(np.exp(x*α - δ*p[1])/(1+np.exp(x*α - δ*p[1])))/(1+np.exp(x*α - δ*p[1]))\n",
      "<ipython-input-8-0f2df1db37f2>:18: RuntimeWarning: invalid value encountered in true_divide\n",
      "  j12 = -δ*(np.exp(x*α - δ*p[1])/(1+np.exp(x*α - δ*p[1])))/(1+np.exp(x*α - δ*p[1]))\n",
      "<ipython-input-8-0f2df1db37f2>:12: RuntimeWarning: overflow encountered in exp\n",
      "  f2 = np.exp(x*α - δ*p[0])/(1+np.exp(x*α - δ*p[0])) - p[1]\n",
      "<ipython-input-8-0f2df1db37f2>:12: RuntimeWarning: invalid value encountered in true_divide\n",
      "  f2 = np.exp(x*α - δ*p[0])/(1+np.exp(x*α - δ*p[0])) - p[1]\n",
      "<ipython-input-8-0f2df1db37f2>:19: RuntimeWarning: overflow encountered in exp\n",
      "  j21 = -δ*(np.exp(x*α - δ*p[0])/(1+np.exp(x*α - δ*p[0])))/(1+np.exp(x*α - δ*p[0]))\n",
      "<ipython-input-8-0f2df1db37f2>:19: RuntimeWarning: invalid value encountered in true_divide\n",
      "  j21 = -δ*(np.exp(x*α - δ*p[0])/(1+np.exp(x*α - δ*p[0])))/(1+np.exp(x*α - δ*p[0]))\n",
      "<ipython-input-8-0f2df1db37f2>:12: RuntimeWarning: overflow encountered in exp\n",
      "  f2 = np.exp(x*α - δ*p[0])/(1+np.exp(x*α - δ*p[0])) - p[1]\n",
      "<ipython-input-8-0f2df1db37f2>:12: RuntimeWarning: invalid value encountered in true_divide\n",
      "  f2 = np.exp(x*α - δ*p[0])/(1+np.exp(x*α - δ*p[0])) - p[1]\n",
      "<ipython-input-8-0f2df1db37f2>:19: RuntimeWarning: overflow encountered in exp\n",
      "  j21 = -δ*(np.exp(x*α - δ*p[0])/(1+np.exp(x*α - δ*p[0])))/(1+np.exp(x*α - δ*p[0]))\n",
      "<ipython-input-8-0f2df1db37f2>:19: RuntimeWarning: invalid value encountered in true_divide\n",
      "  j21 = -δ*(np.exp(x*α - δ*p[0])/(1+np.exp(x*α - δ*p[0])))/(1+np.exp(x*α - δ*p[0]))\n",
      "<ipython-input-8-0f2df1db37f2>:11: RuntimeWarning: overflow encountered in exp\n",
      "  f1 = np.exp(x*α - δ*p[1])/(1+np.exp(x*α - δ*p[1])) - p[0]\n",
      "<ipython-input-8-0f2df1db37f2>:11: RuntimeWarning: invalid value encountered in true_divide\n",
      "  f1 = np.exp(x*α - δ*p[1])/(1+np.exp(x*α - δ*p[1])) - p[0]\n",
      "<ipython-input-8-0f2df1db37f2>:18: RuntimeWarning: overflow encountered in exp\n",
      "  j12 = -δ*(np.exp(x*α - δ*p[1])/(1+np.exp(x*α - δ*p[1])))/(1+np.exp(x*α - δ*p[1]))\n",
      "<ipython-input-8-0f2df1db37f2>:18: RuntimeWarning: invalid value encountered in true_divide\n",
      "  j12 = -δ*(np.exp(x*α - δ*p[1])/(1+np.exp(x*α - δ*p[1])))/(1+np.exp(x*α - δ*p[1]))\n",
      "<ipython-input-8-0f2df1db37f2>:12: RuntimeWarning: overflow encountered in exp\n",
      "  f2 = np.exp(x*α - δ*p[0])/(1+np.exp(x*α - δ*p[0])) - p[1]\n",
      "<ipython-input-8-0f2df1db37f2>:12: RuntimeWarning: invalid value encountered in true_divide\n",
      "  f2 = np.exp(x*α - δ*p[0])/(1+np.exp(x*α - δ*p[0])) - p[1]\n",
      "<ipython-input-8-0f2df1db37f2>:19: RuntimeWarning: overflow encountered in exp\n",
      "  j21 = -δ*(np.exp(x*α - δ*p[0])/(1+np.exp(x*α - δ*p[0])))/(1+np.exp(x*α - δ*p[0]))\n",
      "<ipython-input-8-0f2df1db37f2>:19: RuntimeWarning: invalid value encountered in true_divide\n",
      "  j21 = -δ*(np.exp(x*α - δ*p[0])/(1+np.exp(x*α - δ*p[0])))/(1+np.exp(x*α - δ*p[0]))\n",
      "<ipython-input-8-0f2df1db37f2>:11: RuntimeWarning: overflow encountered in exp\n",
      "  f1 = np.exp(x*α - δ*p[1])/(1+np.exp(x*α - δ*p[1])) - p[0]\n",
      "<ipython-input-8-0f2df1db37f2>:11: RuntimeWarning: invalid value encountered in true_divide\n",
      "  f1 = np.exp(x*α - δ*p[1])/(1+np.exp(x*α - δ*p[1])) - p[0]\n",
      "<ipython-input-8-0f2df1db37f2>:18: RuntimeWarning: overflow encountered in exp\n",
      "  j12 = -δ*(np.exp(x*α - δ*p[1])/(1+np.exp(x*α - δ*p[1])))/(1+np.exp(x*α - δ*p[1]))\n",
      "<ipython-input-8-0f2df1db37f2>:18: RuntimeWarning: invalid value encountered in true_divide\n",
      "  j12 = -δ*(np.exp(x*α - δ*p[1])/(1+np.exp(x*α - δ*p[1])))/(1+np.exp(x*α - δ*p[1]))\n"
     ]
    },
    {
     "name": "stdout",
     "output_type": "stream",
     "text": [
      "30\n"
     ]
    },
    {
     "name": "stderr",
     "output_type": "stream",
     "text": [
      "<ipython-input-8-0f2df1db37f2>:12: RuntimeWarning: overflow encountered in exp\n",
      "  f2 = np.exp(x*α - δ*p[0])/(1+np.exp(x*α - δ*p[0])) - p[1]\n",
      "<ipython-input-8-0f2df1db37f2>:12: RuntimeWarning: invalid value encountered in true_divide\n",
      "  f2 = np.exp(x*α - δ*p[0])/(1+np.exp(x*α - δ*p[0])) - p[1]\n",
      "<ipython-input-8-0f2df1db37f2>:19: RuntimeWarning: overflow encountered in exp\n",
      "  j21 = -δ*(np.exp(x*α - δ*p[0])/(1+np.exp(x*α - δ*p[0])))/(1+np.exp(x*α - δ*p[0]))\n",
      "<ipython-input-8-0f2df1db37f2>:19: RuntimeWarning: invalid value encountered in true_divide\n",
      "  j21 = -δ*(np.exp(x*α - δ*p[0])/(1+np.exp(x*α - δ*p[0])))/(1+np.exp(x*α - δ*p[0]))\n",
      "<ipython-input-8-0f2df1db37f2>:11: RuntimeWarning: overflow encountered in exp\n",
      "  f1 = np.exp(x*α - δ*p[1])/(1+np.exp(x*α - δ*p[1])) - p[0]\n",
      "<ipython-input-8-0f2df1db37f2>:11: RuntimeWarning: invalid value encountered in true_divide\n",
      "  f1 = np.exp(x*α - δ*p[1])/(1+np.exp(x*α - δ*p[1])) - p[0]\n",
      "<ipython-input-8-0f2df1db37f2>:18: RuntimeWarning: overflow encountered in exp\n",
      "  j12 = -δ*(np.exp(x*α - δ*p[1])/(1+np.exp(x*α - δ*p[1])))/(1+np.exp(x*α - δ*p[1]))\n",
      "<ipython-input-8-0f2df1db37f2>:18: RuntimeWarning: invalid value encountered in true_divide\n",
      "  j12 = -δ*(np.exp(x*α - δ*p[1])/(1+np.exp(x*α - δ*p[1])))/(1+np.exp(x*α - δ*p[1]))\n",
      "<ipython-input-8-0f2df1db37f2>:12: RuntimeWarning: overflow encountered in exp\n",
      "  f2 = np.exp(x*α - δ*p[0])/(1+np.exp(x*α - δ*p[0])) - p[1]\n",
      "<ipython-input-8-0f2df1db37f2>:12: RuntimeWarning: invalid value encountered in true_divide\n",
      "  f2 = np.exp(x*α - δ*p[0])/(1+np.exp(x*α - δ*p[0])) - p[1]\n",
      "<ipython-input-8-0f2df1db37f2>:19: RuntimeWarning: overflow encountered in exp\n",
      "  j21 = -δ*(np.exp(x*α - δ*p[0])/(1+np.exp(x*α - δ*p[0])))/(1+np.exp(x*α - δ*p[0]))\n",
      "<ipython-input-8-0f2df1db37f2>:19: RuntimeWarning: invalid value encountered in true_divide\n",
      "  j21 = -δ*(np.exp(x*α - δ*p[0])/(1+np.exp(x*α - δ*p[0])))/(1+np.exp(x*α - δ*p[0]))\n",
      "<ipython-input-8-0f2df1db37f2>:11: RuntimeWarning: overflow encountered in exp\n",
      "  f1 = np.exp(x*α - δ*p[1])/(1+np.exp(x*α - δ*p[1])) - p[0]\n",
      "<ipython-input-8-0f2df1db37f2>:11: RuntimeWarning: invalid value encountered in true_divide\n",
      "  f1 = np.exp(x*α - δ*p[1])/(1+np.exp(x*α - δ*p[1])) - p[0]\n",
      "<ipython-input-8-0f2df1db37f2>:18: RuntimeWarning: overflow encountered in exp\n",
      "  j12 = -δ*(np.exp(x*α - δ*p[1])/(1+np.exp(x*α - δ*p[1])))/(1+np.exp(x*α - δ*p[1]))\n",
      "<ipython-input-8-0f2df1db37f2>:18: RuntimeWarning: invalid value encountered in true_divide\n",
      "  j12 = -δ*(np.exp(x*α - δ*p[1])/(1+np.exp(x*α - δ*p[1])))/(1+np.exp(x*α - δ*p[1]))\n"
     ]
    },
    {
     "name": "stdout",
     "output_type": "stream",
     "text": [
      "31\n",
      "32\n",
      "33\n"
     ]
    },
    {
     "name": "stderr",
     "output_type": "stream",
     "text": [
      "<ipython-input-8-0f2df1db37f2>:11: RuntimeWarning: overflow encountered in exp\n",
      "  f1 = np.exp(x*α - δ*p[1])/(1+np.exp(x*α - δ*p[1])) - p[0]\n",
      "<ipython-input-8-0f2df1db37f2>:11: RuntimeWarning: invalid value encountered in true_divide\n",
      "  f1 = np.exp(x*α - δ*p[1])/(1+np.exp(x*α - δ*p[1])) - p[0]\n",
      "<ipython-input-8-0f2df1db37f2>:18: RuntimeWarning: overflow encountered in exp\n",
      "  j12 = -δ*(np.exp(x*α - δ*p[1])/(1+np.exp(x*α - δ*p[1])))/(1+np.exp(x*α - δ*p[1]))\n",
      "<ipython-input-8-0f2df1db37f2>:18: RuntimeWarning: invalid value encountered in true_divide\n",
      "  j12 = -δ*(np.exp(x*α - δ*p[1])/(1+np.exp(x*α - δ*p[1])))/(1+np.exp(x*α - δ*p[1]))\n",
      "<ipython-input-8-0f2df1db37f2>:12: RuntimeWarning: overflow encountered in exp\n",
      "  f2 = np.exp(x*α - δ*p[0])/(1+np.exp(x*α - δ*p[0])) - p[1]\n",
      "<ipython-input-8-0f2df1db37f2>:12: RuntimeWarning: invalid value encountered in true_divide\n",
      "  f2 = np.exp(x*α - δ*p[0])/(1+np.exp(x*α - δ*p[0])) - p[1]\n",
      "<ipython-input-8-0f2df1db37f2>:19: RuntimeWarning: overflow encountered in exp\n",
      "  j21 = -δ*(np.exp(x*α - δ*p[0])/(1+np.exp(x*α - δ*p[0])))/(1+np.exp(x*α - δ*p[0]))\n",
      "<ipython-input-8-0f2df1db37f2>:19: RuntimeWarning: invalid value encountered in true_divide\n",
      "  j21 = -δ*(np.exp(x*α - δ*p[0])/(1+np.exp(x*α - δ*p[0])))/(1+np.exp(x*α - δ*p[0]))\n",
      "<ipython-input-8-0f2df1db37f2>:11: RuntimeWarning: overflow encountered in exp\n",
      "  f1 = np.exp(x*α - δ*p[1])/(1+np.exp(x*α - δ*p[1])) - p[0]\n",
      "<ipython-input-8-0f2df1db37f2>:11: RuntimeWarning: invalid value encountered in true_divide\n",
      "  f1 = np.exp(x*α - δ*p[1])/(1+np.exp(x*α - δ*p[1])) - p[0]\n",
      "<ipython-input-8-0f2df1db37f2>:18: RuntimeWarning: overflow encountered in exp\n",
      "  j12 = -δ*(np.exp(x*α - δ*p[1])/(1+np.exp(x*α - δ*p[1])))/(1+np.exp(x*α - δ*p[1]))\n",
      "<ipython-input-8-0f2df1db37f2>:18: RuntimeWarning: invalid value encountered in true_divide\n",
      "  j12 = -δ*(np.exp(x*α - δ*p[1])/(1+np.exp(x*α - δ*p[1])))/(1+np.exp(x*α - δ*p[1]))\n",
      "<ipython-input-8-0f2df1db37f2>:12: RuntimeWarning: overflow encountered in exp\n",
      "  f2 = np.exp(x*α - δ*p[0])/(1+np.exp(x*α - δ*p[0])) - p[1]\n",
      "<ipython-input-8-0f2df1db37f2>:12: RuntimeWarning: invalid value encountered in true_divide\n",
      "  f2 = np.exp(x*α - δ*p[0])/(1+np.exp(x*α - δ*p[0])) - p[1]\n",
      "<ipython-input-8-0f2df1db37f2>:19: RuntimeWarning: overflow encountered in exp\n",
      "  j21 = -δ*(np.exp(x*α - δ*p[0])/(1+np.exp(x*α - δ*p[0])))/(1+np.exp(x*α - δ*p[0]))\n",
      "<ipython-input-8-0f2df1db37f2>:19: RuntimeWarning: invalid value encountered in true_divide\n",
      "  j21 = -δ*(np.exp(x*α - δ*p[0])/(1+np.exp(x*α - δ*p[0])))/(1+np.exp(x*α - δ*p[0]))\n",
      "<ipython-input-8-0f2df1db37f2>:12: RuntimeWarning: overflow encountered in exp\n",
      "  f2 = np.exp(x*α - δ*p[0])/(1+np.exp(x*α - δ*p[0])) - p[1]\n",
      "<ipython-input-8-0f2df1db37f2>:12: RuntimeWarning: invalid value encountered in true_divide\n",
      "  f2 = np.exp(x*α - δ*p[0])/(1+np.exp(x*α - δ*p[0])) - p[1]\n",
      "<ipython-input-8-0f2df1db37f2>:19: RuntimeWarning: overflow encountered in exp\n",
      "  j21 = -δ*(np.exp(x*α - δ*p[0])/(1+np.exp(x*α - δ*p[0])))/(1+np.exp(x*α - δ*p[0]))\n",
      "<ipython-input-8-0f2df1db37f2>:19: RuntimeWarning: invalid value encountered in true_divide\n",
      "  j21 = -δ*(np.exp(x*α - δ*p[0])/(1+np.exp(x*α - δ*p[0])))/(1+np.exp(x*α - δ*p[0]))\n",
      "<ipython-input-8-0f2df1db37f2>:11: RuntimeWarning: overflow encountered in exp\n",
      "  f1 = np.exp(x*α - δ*p[1])/(1+np.exp(x*α - δ*p[1])) - p[0]\n",
      "<ipython-input-8-0f2df1db37f2>:11: RuntimeWarning: invalid value encountered in true_divide\n",
      "  f1 = np.exp(x*α - δ*p[1])/(1+np.exp(x*α - δ*p[1])) - p[0]\n",
      "<ipython-input-8-0f2df1db37f2>:18: RuntimeWarning: overflow encountered in exp\n",
      "  j12 = -δ*(np.exp(x*α - δ*p[1])/(1+np.exp(x*α - δ*p[1])))/(1+np.exp(x*α - δ*p[1]))\n",
      "<ipython-input-8-0f2df1db37f2>:18: RuntimeWarning: invalid value encountered in true_divide\n",
      "  j12 = -δ*(np.exp(x*α - δ*p[1])/(1+np.exp(x*α - δ*p[1])))/(1+np.exp(x*α - δ*p[1]))\n",
      "<ipython-input-8-0f2df1db37f2>:11: RuntimeWarning: overflow encountered in exp\n",
      "  f1 = np.exp(x*α - δ*p[1])/(1+np.exp(x*α - δ*p[1])) - p[0]\n",
      "<ipython-input-8-0f2df1db37f2>:11: RuntimeWarning: invalid value encountered in true_divide\n",
      "  f1 = np.exp(x*α - δ*p[1])/(1+np.exp(x*α - δ*p[1])) - p[0]\n",
      "<ipython-input-8-0f2df1db37f2>:18: RuntimeWarning: overflow encountered in exp\n",
      "  j12 = -δ*(np.exp(x*α - δ*p[1])/(1+np.exp(x*α - δ*p[1])))/(1+np.exp(x*α - δ*p[1]))\n",
      "<ipython-input-8-0f2df1db37f2>:18: RuntimeWarning: invalid value encountered in true_divide\n",
      "  j12 = -δ*(np.exp(x*α - δ*p[1])/(1+np.exp(x*α - δ*p[1])))/(1+np.exp(x*α - δ*p[1]))\n",
      "<ipython-input-8-0f2df1db37f2>:12: RuntimeWarning: overflow encountered in exp\n",
      "  f2 = np.exp(x*α - δ*p[0])/(1+np.exp(x*α - δ*p[0])) - p[1]\n",
      "<ipython-input-8-0f2df1db37f2>:12: RuntimeWarning: invalid value encountered in true_divide\n",
      "  f2 = np.exp(x*α - δ*p[0])/(1+np.exp(x*α - δ*p[0])) - p[1]\n",
      "<ipython-input-8-0f2df1db37f2>:19: RuntimeWarning: overflow encountered in exp\n",
      "  j21 = -δ*(np.exp(x*α - δ*p[0])/(1+np.exp(x*α - δ*p[0])))/(1+np.exp(x*α - δ*p[0]))\n",
      "<ipython-input-8-0f2df1db37f2>:19: RuntimeWarning: invalid value encountered in true_divide\n",
      "  j21 = -δ*(np.exp(x*α - δ*p[0])/(1+np.exp(x*α - δ*p[0])))/(1+np.exp(x*α - δ*p[0]))\n"
     ]
    },
    {
     "name": "stdout",
     "output_type": "stream",
     "text": [
      "34\n",
      "35\n",
      "36\n",
      "37\n",
      "38\n",
      "39\n",
      "40\n",
      "41\n",
      "42\n",
      "43\n",
      "44\n",
      "45\n"
     ]
    },
    {
     "name": "stderr",
     "output_type": "stream",
     "text": [
      "<ipython-input-8-0f2df1db37f2>:12: RuntimeWarning: overflow encountered in exp\n",
      "  f2 = np.exp(x*α - δ*p[0])/(1+np.exp(x*α - δ*p[0])) - p[1]\n",
      "<ipython-input-8-0f2df1db37f2>:12: RuntimeWarning: invalid value encountered in true_divide\n",
      "  f2 = np.exp(x*α - δ*p[0])/(1+np.exp(x*α - δ*p[0])) - p[1]\n",
      "<ipython-input-8-0f2df1db37f2>:19: RuntimeWarning: overflow encountered in exp\n",
      "  j21 = -δ*(np.exp(x*α - δ*p[0])/(1+np.exp(x*α - δ*p[0])))/(1+np.exp(x*α - δ*p[0]))\n",
      "<ipython-input-8-0f2df1db37f2>:19: RuntimeWarning: invalid value encountered in true_divide\n",
      "  j21 = -δ*(np.exp(x*α - δ*p[0])/(1+np.exp(x*α - δ*p[0])))/(1+np.exp(x*α - δ*p[0]))\n",
      "<ipython-input-8-0f2df1db37f2>:11: RuntimeWarning: overflow encountered in exp\n",
      "  f1 = np.exp(x*α - δ*p[1])/(1+np.exp(x*α - δ*p[1])) - p[0]\n",
      "<ipython-input-8-0f2df1db37f2>:11: RuntimeWarning: invalid value encountered in true_divide\n",
      "  f1 = np.exp(x*α - δ*p[1])/(1+np.exp(x*α - δ*p[1])) - p[0]\n",
      "<ipython-input-8-0f2df1db37f2>:18: RuntimeWarning: overflow encountered in exp\n",
      "  j12 = -δ*(np.exp(x*α - δ*p[1])/(1+np.exp(x*α - δ*p[1])))/(1+np.exp(x*α - δ*p[1]))\n",
      "<ipython-input-8-0f2df1db37f2>:18: RuntimeWarning: invalid value encountered in true_divide\n",
      "  j12 = -δ*(np.exp(x*α - δ*p[1])/(1+np.exp(x*α - δ*p[1])))/(1+np.exp(x*α - δ*p[1]))\n",
      "<ipython-input-8-0f2df1db37f2>:12: RuntimeWarning: overflow encountered in exp\n",
      "  f2 = np.exp(x*α - δ*p[0])/(1+np.exp(x*α - δ*p[0])) - p[1]\n",
      "<ipython-input-8-0f2df1db37f2>:12: RuntimeWarning: invalid value encountered in true_divide\n",
      "  f2 = np.exp(x*α - δ*p[0])/(1+np.exp(x*α - δ*p[0])) - p[1]\n",
      "<ipython-input-8-0f2df1db37f2>:19: RuntimeWarning: overflow encountered in exp\n",
      "  j21 = -δ*(np.exp(x*α - δ*p[0])/(1+np.exp(x*α - δ*p[0])))/(1+np.exp(x*α - δ*p[0]))\n",
      "<ipython-input-8-0f2df1db37f2>:19: RuntimeWarning: invalid value encountered in true_divide\n",
      "  j21 = -δ*(np.exp(x*α - δ*p[0])/(1+np.exp(x*α - δ*p[0])))/(1+np.exp(x*α - δ*p[0]))\n",
      "<ipython-input-8-0f2df1db37f2>:11: RuntimeWarning: overflow encountered in exp\n",
      "  f1 = np.exp(x*α - δ*p[1])/(1+np.exp(x*α - δ*p[1])) - p[0]\n",
      "<ipython-input-8-0f2df1db37f2>:11: RuntimeWarning: invalid value encountered in true_divide\n",
      "  f1 = np.exp(x*α - δ*p[1])/(1+np.exp(x*α - δ*p[1])) - p[0]\n",
      "<ipython-input-8-0f2df1db37f2>:18: RuntimeWarning: overflow encountered in exp\n",
      "  j12 = -δ*(np.exp(x*α - δ*p[1])/(1+np.exp(x*α - δ*p[1])))/(1+np.exp(x*α - δ*p[1]))\n",
      "<ipython-input-8-0f2df1db37f2>:18: RuntimeWarning: invalid value encountered in true_divide\n",
      "  j12 = -δ*(np.exp(x*α - δ*p[1])/(1+np.exp(x*α - δ*p[1])))/(1+np.exp(x*α - δ*p[1]))\n",
      "<ipython-input-8-0f2df1db37f2>:12: RuntimeWarning: overflow encountered in exp\n",
      "  f2 = np.exp(x*α - δ*p[0])/(1+np.exp(x*α - δ*p[0])) - p[1]\n",
      "<ipython-input-8-0f2df1db37f2>:12: RuntimeWarning: invalid value encountered in true_divide\n",
      "  f2 = np.exp(x*α - δ*p[0])/(1+np.exp(x*α - δ*p[0])) - p[1]\n",
      "<ipython-input-8-0f2df1db37f2>:19: RuntimeWarning: overflow encountered in exp\n",
      "  j21 = -δ*(np.exp(x*α - δ*p[0])/(1+np.exp(x*α - δ*p[0])))/(1+np.exp(x*α - δ*p[0]))\n",
      "<ipython-input-8-0f2df1db37f2>:19: RuntimeWarning: invalid value encountered in true_divide\n",
      "  j21 = -δ*(np.exp(x*α - δ*p[0])/(1+np.exp(x*α - δ*p[0])))/(1+np.exp(x*α - δ*p[0]))\n",
      "<ipython-input-8-0f2df1db37f2>:11: RuntimeWarning: overflow encountered in exp\n",
      "  f1 = np.exp(x*α - δ*p[1])/(1+np.exp(x*α - δ*p[1])) - p[0]\n",
      "<ipython-input-8-0f2df1db37f2>:11: RuntimeWarning: invalid value encountered in true_divide\n",
      "  f1 = np.exp(x*α - δ*p[1])/(1+np.exp(x*α - δ*p[1])) - p[0]\n",
      "<ipython-input-8-0f2df1db37f2>:18: RuntimeWarning: overflow encountered in exp\n",
      "  j12 = -δ*(np.exp(x*α - δ*p[1])/(1+np.exp(x*α - δ*p[1])))/(1+np.exp(x*α - δ*p[1]))\n",
      "<ipython-input-8-0f2df1db37f2>:18: RuntimeWarning: invalid value encountered in true_divide\n",
      "  j12 = -δ*(np.exp(x*α - δ*p[1])/(1+np.exp(x*α - δ*p[1])))/(1+np.exp(x*α - δ*p[1]))\n",
      "<ipython-input-8-0f2df1db37f2>:12: RuntimeWarning: overflow encountered in exp\n",
      "  f2 = np.exp(x*α - δ*p[0])/(1+np.exp(x*α - δ*p[0])) - p[1]\n",
      "<ipython-input-8-0f2df1db37f2>:12: RuntimeWarning: invalid value encountered in true_divide\n",
      "  f2 = np.exp(x*α - δ*p[0])/(1+np.exp(x*α - δ*p[0])) - p[1]\n",
      "<ipython-input-8-0f2df1db37f2>:19: RuntimeWarning: overflow encountered in exp\n",
      "  j21 = -δ*(np.exp(x*α - δ*p[0])/(1+np.exp(x*α - δ*p[0])))/(1+np.exp(x*α - δ*p[0]))\n",
      "<ipython-input-8-0f2df1db37f2>:19: RuntimeWarning: invalid value encountered in true_divide\n",
      "  j21 = -δ*(np.exp(x*α - δ*p[0])/(1+np.exp(x*α - δ*p[0])))/(1+np.exp(x*α - δ*p[0]))\n",
      "<ipython-input-8-0f2df1db37f2>:11: RuntimeWarning: overflow encountered in exp\n",
      "  f1 = np.exp(x*α - δ*p[1])/(1+np.exp(x*α - δ*p[1])) - p[0]\n",
      "<ipython-input-8-0f2df1db37f2>:11: RuntimeWarning: invalid value encountered in true_divide\n",
      "  f1 = np.exp(x*α - δ*p[1])/(1+np.exp(x*α - δ*p[1])) - p[0]\n",
      "<ipython-input-8-0f2df1db37f2>:18: RuntimeWarning: overflow encountered in exp\n",
      "  j12 = -δ*(np.exp(x*α - δ*p[1])/(1+np.exp(x*α - δ*p[1])))/(1+np.exp(x*α - δ*p[1]))\n",
      "<ipython-input-8-0f2df1db37f2>:18: RuntimeWarning: invalid value encountered in true_divide\n",
      "  j12 = -δ*(np.exp(x*α - δ*p[1])/(1+np.exp(x*α - δ*p[1])))/(1+np.exp(x*α - δ*p[1]))\n"
     ]
    },
    {
     "name": "stdout",
     "output_type": "stream",
     "text": [
      "46\n",
      "47\n",
      "48\n",
      "49\n"
     ]
    },
    {
     "name": "stderr",
     "output_type": "stream",
     "text": [
      "<ipython-input-8-0f2df1db37f2>:11: RuntimeWarning: overflow encountered in exp\n",
      "  f1 = np.exp(x*α - δ*p[1])/(1+np.exp(x*α - δ*p[1])) - p[0]\n",
      "<ipython-input-8-0f2df1db37f2>:11: RuntimeWarning: invalid value encountered in true_divide\n",
      "  f1 = np.exp(x*α - δ*p[1])/(1+np.exp(x*α - δ*p[1])) - p[0]\n",
      "<ipython-input-8-0f2df1db37f2>:18: RuntimeWarning: overflow encountered in exp\n",
      "  j12 = -δ*(np.exp(x*α - δ*p[1])/(1+np.exp(x*α - δ*p[1])))/(1+np.exp(x*α - δ*p[1]))\n",
      "<ipython-input-8-0f2df1db37f2>:18: RuntimeWarning: invalid value encountered in true_divide\n",
      "  j12 = -δ*(np.exp(x*α - δ*p[1])/(1+np.exp(x*α - δ*p[1])))/(1+np.exp(x*α - δ*p[1]))\n",
      "<ipython-input-8-0f2df1db37f2>:12: RuntimeWarning: overflow encountered in exp\n",
      "  f2 = np.exp(x*α - δ*p[0])/(1+np.exp(x*α - δ*p[0])) - p[1]\n",
      "<ipython-input-8-0f2df1db37f2>:12: RuntimeWarning: invalid value encountered in true_divide\n",
      "  f2 = np.exp(x*α - δ*p[0])/(1+np.exp(x*α - δ*p[0])) - p[1]\n",
      "<ipython-input-8-0f2df1db37f2>:19: RuntimeWarning: overflow encountered in exp\n",
      "  j21 = -δ*(np.exp(x*α - δ*p[0])/(1+np.exp(x*α - δ*p[0])))/(1+np.exp(x*α - δ*p[0]))\n",
      "<ipython-input-8-0f2df1db37f2>:19: RuntimeWarning: invalid value encountered in true_divide\n",
      "  j21 = -δ*(np.exp(x*α - δ*p[0])/(1+np.exp(x*α - δ*p[0])))/(1+np.exp(x*α - δ*p[0]))\n",
      "<ipython-input-8-0f2df1db37f2>:11: RuntimeWarning: overflow encountered in exp\n",
      "  f1 = np.exp(x*α - δ*p[1])/(1+np.exp(x*α - δ*p[1])) - p[0]\n",
      "<ipython-input-8-0f2df1db37f2>:11: RuntimeWarning: invalid value encountered in true_divide\n",
      "  f1 = np.exp(x*α - δ*p[1])/(1+np.exp(x*α - δ*p[1])) - p[0]\n",
      "<ipython-input-8-0f2df1db37f2>:18: RuntimeWarning: overflow encountered in exp\n",
      "  j12 = -δ*(np.exp(x*α - δ*p[1])/(1+np.exp(x*α - δ*p[1])))/(1+np.exp(x*α - δ*p[1]))\n",
      "<ipython-input-8-0f2df1db37f2>:18: RuntimeWarning: invalid value encountered in true_divide\n",
      "  j12 = -δ*(np.exp(x*α - δ*p[1])/(1+np.exp(x*α - δ*p[1])))/(1+np.exp(x*α - δ*p[1]))\n",
      "<ipython-input-8-0f2df1db37f2>:12: RuntimeWarning: overflow encountered in exp\n",
      "  f2 = np.exp(x*α - δ*p[0])/(1+np.exp(x*α - δ*p[0])) - p[1]\n",
      "<ipython-input-8-0f2df1db37f2>:12: RuntimeWarning: invalid value encountered in true_divide\n",
      "  f2 = np.exp(x*α - δ*p[0])/(1+np.exp(x*α - δ*p[0])) - p[1]\n",
      "<ipython-input-8-0f2df1db37f2>:19: RuntimeWarning: overflow encountered in exp\n",
      "  j21 = -δ*(np.exp(x*α - δ*p[0])/(1+np.exp(x*α - δ*p[0])))/(1+np.exp(x*α - δ*p[0]))\n",
      "<ipython-input-8-0f2df1db37f2>:19: RuntimeWarning: invalid value encountered in true_divide\n",
      "  j21 = -δ*(np.exp(x*α - δ*p[0])/(1+np.exp(x*α - δ*p[0])))/(1+np.exp(x*α - δ*p[0]))\n",
      "<ipython-input-8-0f2df1db37f2>:12: RuntimeWarning: overflow encountered in exp\n",
      "  f2 = np.exp(x*α - δ*p[0])/(1+np.exp(x*α - δ*p[0])) - p[1]\n",
      "<ipython-input-8-0f2df1db37f2>:12: RuntimeWarning: invalid value encountered in true_divide\n",
      "  f2 = np.exp(x*α - δ*p[0])/(1+np.exp(x*α - δ*p[0])) - p[1]\n",
      "<ipython-input-8-0f2df1db37f2>:19: RuntimeWarning: overflow encountered in exp\n",
      "  j21 = -δ*(np.exp(x*α - δ*p[0])/(1+np.exp(x*α - δ*p[0])))/(1+np.exp(x*α - δ*p[0]))\n",
      "<ipython-input-8-0f2df1db37f2>:19: RuntimeWarning: invalid value encountered in true_divide\n",
      "  j21 = -δ*(np.exp(x*α - δ*p[0])/(1+np.exp(x*α - δ*p[0])))/(1+np.exp(x*α - δ*p[0]))\n",
      "<ipython-input-8-0f2df1db37f2>:11: RuntimeWarning: overflow encountered in exp\n",
      "  f1 = np.exp(x*α - δ*p[1])/(1+np.exp(x*α - δ*p[1])) - p[0]\n",
      "<ipython-input-8-0f2df1db37f2>:11: RuntimeWarning: invalid value encountered in true_divide\n",
      "  f1 = np.exp(x*α - δ*p[1])/(1+np.exp(x*α - δ*p[1])) - p[0]\n",
      "<ipython-input-8-0f2df1db37f2>:18: RuntimeWarning: overflow encountered in exp\n",
      "  j12 = -δ*(np.exp(x*α - δ*p[1])/(1+np.exp(x*α - δ*p[1])))/(1+np.exp(x*α - δ*p[1]))\n",
      "<ipython-input-8-0f2df1db37f2>:18: RuntimeWarning: invalid value encountered in true_divide\n",
      "  j12 = -δ*(np.exp(x*α - δ*p[1])/(1+np.exp(x*α - δ*p[1])))/(1+np.exp(x*α - δ*p[1]))\n",
      "<ipython-input-8-0f2df1db37f2>:12: RuntimeWarning: overflow encountered in exp\n",
      "  f2 = np.exp(x*α - δ*p[0])/(1+np.exp(x*α - δ*p[0])) - p[1]\n",
      "<ipython-input-8-0f2df1db37f2>:12: RuntimeWarning: invalid value encountered in true_divide\n",
      "  f2 = np.exp(x*α - δ*p[0])/(1+np.exp(x*α - δ*p[0])) - p[1]\n",
      "<ipython-input-8-0f2df1db37f2>:19: RuntimeWarning: overflow encountered in exp\n",
      "  j21 = -δ*(np.exp(x*α - δ*p[0])/(1+np.exp(x*α - δ*p[0])))/(1+np.exp(x*α - δ*p[0]))\n",
      "<ipython-input-8-0f2df1db37f2>:19: RuntimeWarning: invalid value encountered in true_divide\n",
      "  j21 = -δ*(np.exp(x*α - δ*p[0])/(1+np.exp(x*α - δ*p[0])))/(1+np.exp(x*α - δ*p[0]))\n",
      "<ipython-input-8-0f2df1db37f2>:11: RuntimeWarning: overflow encountered in exp\n",
      "  f1 = np.exp(x*α - δ*p[1])/(1+np.exp(x*α - δ*p[1])) - p[0]\n",
      "<ipython-input-8-0f2df1db37f2>:11: RuntimeWarning: invalid value encountered in true_divide\n",
      "  f1 = np.exp(x*α - δ*p[1])/(1+np.exp(x*α - δ*p[1])) - p[0]\n",
      "<ipython-input-8-0f2df1db37f2>:18: RuntimeWarning: overflow encountered in exp\n",
      "  j12 = -δ*(np.exp(x*α - δ*p[1])/(1+np.exp(x*α - δ*p[1])))/(1+np.exp(x*α - δ*p[1]))\n",
      "<ipython-input-8-0f2df1db37f2>:18: RuntimeWarning: invalid value encountered in true_divide\n",
      "  j12 = -δ*(np.exp(x*α - δ*p[1])/(1+np.exp(x*α - δ*p[1])))/(1+np.exp(x*α - δ*p[1]))\n"
     ]
    },
    {
     "name": "stdout",
     "output_type": "stream",
     "text": [
      "[2.84981502 2.67660737 2.56416478 4.11690769 3.61581607 3.39683998\n",
      " 2.76277978 2.40013904 2.9857195  3.14884587 4.17729118 2.71452873\n",
      " 3.08515195 2.94150341 5.37818373 3.40041998 2.63279006 4.3104816\n",
      " 5.24399651 3.17936227 2.59562569 5.10435774 1.98653668 2.88626986\n",
      " 4.06198572 3.03412634 2.65573645 3.67932809 1.80698297 3.6156075\n",
      " 4.04716272 2.5428477  2.701283   4.93742319 3.09871957 3.42574103\n",
      " 3.46052479 3.72182152 3.00526792 3.35261452 3.35528229 2.11884896\n",
      " 2.38578523 2.62148132 2.56332016 2.9594194  2.84483014 3.52431883\n",
      " 2.94520135 3.87497157]\n",
      "[ 5.40566191  5.25815507  4.96467399  8.4608548   7.51964292  6.77243519\n",
      "  5.60085372  4.33958259  5.8729052   6.25793184  8.54426608  5.15597586\n",
      "  6.12702233  5.90274467 11.61597031  6.88423785  5.02489335  9.15505556\n",
      " 11.3294614   6.65963229  5.02208906 11.27643045  3.54922707  5.91685756\n",
      "  8.57398579  6.15113798  5.20105829  7.72219061  3.07762623  7.47189038\n",
      "  8.4145679   4.68058999  5.15510949 10.57381583  6.10049718  7.39419775\n",
      "  7.05872567  7.91641721  5.89206676  6.46237731  7.09313546  4.08485465\n",
      "  4.26800546  5.24296174  4.98704067  5.94187941  5.34612211  7.09655758\n",
      "  6.0698745   8.00898537]\n"
     ]
    }
   ],
   "source": [
    "alphas = np.zeros(S)\n",
    "deltas = np.zeros(S)\n",
    "for i in range(S):\n",
    "    print(i)\n",
    "    y1s = y1_sim[:,i]\n",
    "    y2s = y2_sim[:,i]\n",
    "    xs = x_sim[:,i]\n",
    "    try:\n",
    "        x = sp.optimize.minimize(ll, np.array((1,1)), args = (y1s, y2s, xs)).x\n",
    "    except RuntimeWarning:\n",
    "        pass\n",
    "    alphas[i] = x[0]\n",
    "    deltas[i] = x[1]\n",
    "    \n",
    "print(alphas)\n",
    "print(deltas)"
   ]
  },
  {
   "cell_type": "code",
   "execution_count": 15,
   "metadata": {},
   "outputs": [
    {
     "name": "stdout",
     "output_type": "stream",
     "text": [
      "[2.84981502 2.67660737 2.56416478 4.11690769 3.61581607 3.39683998\n",
      " 2.76277978 2.40013904 2.9857195  3.14884587 4.17729118 2.71452873\n",
      " 3.08515195 2.94150341 5.37818373 3.40041998 2.63279006 4.3104816\n",
      " 5.24399651 3.17936227 2.59562569 5.10435774 1.98653668 2.88626986\n",
      " 4.06198572 3.03412634 2.65573645 3.67932809 1.80698297 3.6156075\n",
      " 4.04716272 2.5428477  2.701283   4.93742319 3.09871957 3.42574103\n",
      " 3.46052479 3.72182152 3.00526792 3.35261452 3.35528229 2.11884896\n",
      " 2.38578523 2.62148132 2.56332016 2.9594194  2.84483014 3.52431883\n",
      " 2.94520135 3.87497157]\n",
      "Mean of α estimates:  3.2498953354848874\n"
     ]
    },
    {
     "data": {
      "text/plain": [
       "[Text(0.5, 1.0, 'α'), Text(0, 0.5, 'Frequency')]"
      ]
     },
     "execution_count": 15,
     "metadata": {},
     "output_type": "execute_result"
    },
    {
     "data": {
      "image/png": "[encoded data removed]",
      "text/plain": [
       "<Figure size 432x288 with 1 Axes>"
      ]
     },
     "metadata": {
      "needs_background": "light"
     },
     "output_type": "display_data"
    }
   ],
   "source": [
    "alpha_mean = np.mean(alphas)\n",
    "print(\"Mean of α estimates: \", alpha_mean)\n",
    "plt.hist(alphas, bins = 10)\n",
    "plt.gca().set(title = 'α', ylabel = 'Frequency')"
   ]
  },
  {
   "cell_type": "code",
   "execution_count": 17,
   "metadata": {},
   "outputs": [
    {
     "name": "stdout",
     "output_type": "stream",
     "text": [
      "Mean of delta estimates:  6.572044647618262\n"
     ]
    },
    {
     "data": {
      "text/plain": [
       "[Text(0.5, 1.0, 'delta'), Text(0, 0.5, 'Frequency')]"
      ]
     },
     "execution_count": 17,
     "metadata": {},
     "output_type": "execute_result"
    },
    {
     "data": {
      "image/png": "[encoded data removed]",
      "text/plain": [
       "<Figure size 432x288 with 1 Axes>"
      ]
     },
     "metadata": {
      "needs_background": "light"
     },
     "output_type": "display_data"
    }
   ],
   "source": [
    "delta_mean = np.mean(deltas)\n",
    "print(\"Mean of delta estimates: \", delta_mean)\n",
    "plt.hist(deltas, bins = 10)\n",
    "plt.gca().set(title = 'delta', ylabel = 'Frequency')"
   ]
  },
  {
   "cell_type": "code",
   "execution_count": 3,
   "metadata": {},
   "outputs": [
    {
     "name": "stdout",
     "output_type": "stream",
     "text": [
      "4113.097272149282\n"
     ]
    }
   ],
   "source": [
    "### Question 1.3.4\n",
    "\n",
    "## Set up the data generating process\n",
    "α0 = 3\n",
    "δ0 = 6\n",
    "np.random.seed(1234) # for debugging\n",
    "\n",
    "def find_prob_sorted(α, δ, sym=False):\n",
    "    p1 = find_bne(α, δ, 1, sym)\n",
    "    p2 = find_bne(α, δ, 2, sym)\n",
    "    # we sort by largest probability first\n",
    "    # by the first column\n",
    "    first_prob = itemgetter(1)\n",
    "    p1 = sorted(p1, key = first_prob)\n",
    "    p2 = sorted(p2, key = first_prob)\n",
    "    return p1, p2\n",
    "\n",
    "# simulate the probabilities\n",
    "p1, p2 = find_prob_sorted(α0, δ0)\n",
    "p = [p1, p2]\n",
    "mp1_sim = np.zeros((T,S))\n",
    "mp2_sim = np.zeros((T,S))\n",
    "for t in range(T):\n",
    "    for s in range(S):\n",
    "        prob = p[x_sim[t,s]-1]\n",
    "        # set up the probability distribution of choices\n",
    "        exp_probs = [2, 1, .5]\n",
    "        eqm_choice_raw = np.divide(np.exp(x_sim[t,s]), exp_probs)\n",
    "        eqm_choice_probs = eqm_choice_raw/np.sum(eqm_choice_raw)\n",
    "        # simulate the equilibrium choice\n",
    "        eqm_choice = np.random.choice(range(len(prob)), 1, p=eqm_choice_probs).item()\n",
    "        mp1_sim[t,s] = prob[eqm_choice][0]\n",
    "        mp2_sim[t,s] = prob[eqm_choice][1]\n",
    "\n",
    "\n",
    "# probability of entry depends on competitor\n",
    "y1_me = np.zeros((T,S))\n",
    "y2_me = np.zeros((T,S))\n",
    "for s in range(S):\n",
    "    for t in range(T):\n",
    "        if (-δ0 * mp2_sim[t,s] + α0 * x_sim[t,s] + ε1_sim[t,s]) >= 0:\n",
    "            y1_me[t,s] = 1\n",
    "        else:\n",
    "            y1_me[t,s] = 0\n",
    "        if (-δ0 * mp1_sim[t,s] + α0 * x_sim[t,s] + ε2_sim[t,s]) >= 0:\n",
    "            y2_me[t,s] = 1\n",
    "        else:\n",
    "            y2_me[t,s] = 0\n",
    "        \n",
    "\n",
    "# Set up the multiple equilibria log-likelihood\n",
    "\n",
    "def ll_me(params, y1, y2, x):\n",
    "    α = params[0]\n",
    "    δ = params[1]\n",
    "    # get p for each type\n",
    "    p1, p2 = find_prob_sorted(α, δ)\n",
    "    # numerically adjust the probabilities \n",
    "    # to account for different numbers of equilibria\n",
    "    num_eqm = max(len(p1), len(p2))\n",
    "    if len(p1) < num_eqm:\n",
    "        p1 = p1*num_eq\n",
    "    elif len(p2) < num_eqm:\n",
    "        p2 = p2*num_eqm \n",
    "        \n",
    "    # set up the log-likelihood \n",
    "    ll1 = np.zeros(len(x))\n",
    "    ll2 = np.zeros(len(x))\n",
    "    for t in range(len(x)):\n",
    "        # do a separate likelihood for each type\n",
    "        # sum over likelihood for each equilibrium\n",
    "        lleqm1 = np.zeros(num_eqm)\n",
    "        lleqm2 = np.zeros(num_eqm)\n",
    "        for eqm in range(num_eqm):\n",
    "            # weight equilibria depending on xs\n",
    "            weight = ((eqm+1)/2)*np.exp(-(eqm+1)/(3-x[t]))\n",
    "            # take simulated probabilities and ys from data\n",
    "            if x[t]==1:\n",
    "                pr1 = p1[eqm][0]\n",
    "                pr2 = p1[eqm][1]\n",
    "            else:\n",
    "                pr1 = p2[eqm][0]\n",
    "                pr2 = p2[eqm][1]\n",
    "            V1 = δ*pr1 - α*x[t]\n",
    "            V2 = δ*pr2 - α*x[t]\n",
    "            lleqm1[eqm] = weight*np.power((1-expit(V1)), (y1[t])) * np.power((expit(V1)), (1-y1[t]))\n",
    "            lleqm2[eqm] = weight*np.power((1-expit(V2)), (y2[t])) * np.power((expit(V2)), (1-y2[t]))\n",
    "        ll1[t] = np.log(np.sum(lleqm1))\n",
    "        ll2[t] = np.log(np.sum(lleqm2))\n",
    "    # sum over both x = 1 and x = 2 log likelihoods\n",
    "    ll = ll1+ll2\n",
    "    return -np.sum(ll)\n",
    "\n",
    "\n",
    "params0 = np.array((1,1))\n",
    "practice_ll = ll_me(params0, y1_me[:,1], y2_me[:,1], x_sim[:,1])\n",
    "print(practice_ll)\n",
    "#first_pass = sp.optimize.minimize(ll_me, params0 ,args=(y1_me[:,1], y2_me[:,1], x_sim[:,1])).x\n",
    "#print(first_pass)\n",
    "    "
   ]
  },
  {
   "cell_type": "code",
   "execution_count": 4,
   "metadata": {},
   "outputs": [
    {
     "name": "stdout",
     "output_type": "stream",
     "text": [
      "0\n",
      "1\n",
      "2\n",
      "3\n",
      "4\n",
      "5\n",
      "6\n",
      "7\n",
      "8\n",
      "9\n"
     ]
    },
    {
     "name": "stderr",
     "output_type": "stream",
     "text": [
      "<ipython-input-1-bb954b9fa096>:13: RuntimeWarning: overflow encountered in exp\n",
      "  f1 = np.exp(x*α - δ*p[1])/(1+np.exp(x*α - δ*p[1])) - p[0]\n",
      "<ipython-input-1-bb954b9fa096>:13: RuntimeWarning: invalid value encountered in true_divide\n",
      "  f1 = np.exp(x*α - δ*p[1])/(1+np.exp(x*α - δ*p[1])) - p[0]\n",
      "<ipython-input-1-bb954b9fa096>:20: RuntimeWarning: overflow encountered in exp\n",
      "  j12 = -δ*(np.exp(x*α - δ*p[1])/(1+np.exp(x*α - δ*p[1])))/(1+np.exp(x*α - δ*p[1]))\n",
      "<ipython-input-1-bb954b9fa096>:20: RuntimeWarning: invalid value encountered in true_divide\n",
      "  j12 = -δ*(np.exp(x*α - δ*p[1])/(1+np.exp(x*α - δ*p[1])))/(1+np.exp(x*α - δ*p[1]))\n",
      "<ipython-input-1-bb954b9fa096>:14: RuntimeWarning: overflow encountered in exp\n",
      "  f2 = np.exp(x*α - δ*p[0])/(1+np.exp(x*α - δ*p[0])) - p[1]\n",
      "<ipython-input-1-bb954b9fa096>:14: RuntimeWarning: invalid value encountered in true_divide\n",
      "  f2 = np.exp(x*α - δ*p[0])/(1+np.exp(x*α - δ*p[0])) - p[1]\n",
      "<ipython-input-1-bb954b9fa096>:21: RuntimeWarning: overflow encountered in exp\n",
      "  j21 = -δ*(np.exp(x*α - δ*p[0])/(1+np.exp(x*α - δ*p[0])))/(1+np.exp(x*α - δ*p[0]))\n",
      "<ipython-input-1-bb954b9fa096>:21: RuntimeWarning: invalid value encountered in true_divide\n",
      "  j21 = -δ*(np.exp(x*α - δ*p[0])/(1+np.exp(x*α - δ*p[0])))/(1+np.exp(x*α - δ*p[0]))\n"
     ]
    },
    {
     "name": "stdout",
     "output_type": "stream",
     "text": [
      "[2.07072935 2.28467086 2.19541272 2.23577111 2.34476552 2.01963629\n",
      " 2.41456499 2.25701419 2.20133131 2.36223009]\n"
     ]
    },
    {
     "ename": "NameError",
     "evalue": "name 'deltas' is not defined",
     "output_type": "error",
     "traceback": [
      "\u001b[0;31m---------------------------------------------------------------------------\u001b[0m",
      "\u001b[0;31mNameError\u001b[0m                                 Traceback (most recent call last)",
      "\u001b[0;32m<ipython-input-4-b54746f3ffae>\u001b[0m in \u001b[0;36m<module>\u001b[0;34m\u001b[0m\n\u001b[1;32m     16\u001b[0m \u001b[0;34m\u001b[0m\u001b[0m\n\u001b[1;32m     17\u001b[0m \u001b[0mprint\u001b[0m\u001b[0;34m(\u001b[0m\u001b[0malphas_me\u001b[0m\u001b[0;34m)\u001b[0m\u001b[0;34m\u001b[0m\u001b[0;34m\u001b[0m\u001b[0m\n\u001b[0;32m---> 18\u001b[0;31m \u001b[0mprint\u001b[0m\u001b[0;34m(\u001b[0m\u001b[0mdeltas\u001b[0m\u001b[0;34m)\u001b[0m\u001b[0;34m\u001b[0m\u001b[0;34m\u001b[0m\u001b[0m\n\u001b[0m",
      "\u001b[0;31mNameError\u001b[0m: name 'deltas' is not defined"
     ]
    }
   ],
   "source": [
    "# solve for distribution of multiple equilibria log-likelihood\n",
    "S=10 #because this is taking too long to run\n",
    "alphas_me = np.zeros(S)\n",
    "deltas_me = np.zeros(S)\n",
    "for i in range(S):\n",
    "    print(i)\n",
    "    y1s = y1_me[:,i]\n",
    "    y2s = y2_me[:,i]\n",
    "    xs = x_sim[:,i]\n",
    "    try:\n",
    "        x = sp.optimize.minimize(ll_me, np.array((1,1)), args = (y1s, y2s, xs)).x\n",
    "    except RuntimeWarning:\n",
    "        pass\n",
    "    alphas_me[i] = x[0]\n",
    "    deltas_me[i] = x[1]\n",
    "    \n",
    "print(alphas_me)\n",
    "print(deltas_me)"
   ]
  },
  {
   "cell_type": "code",
   "execution_count": null,
   "metadata": {},
   "outputs": [],
   "source": [
    "print(deltas_me)"
   ]
  },
  {
   "cell_type": "code",
   "execution_count": 7,
   "metadata": {},
   "outputs": [
    {
     "name": "stdout",
     "output_type": "stream",
     "text": [
      "Mean of α estimates:  2.2386126440803773\n"
     ]
    },
    {
     "data": {
      "text/plain": [
       "[Text(0.5, 1.0, 'α'), Text(0, 0.5, 'Frequency')]"
      ]
     },
     "execution_count": 7,
     "metadata": {},
     "output_type": "execute_result"
    },
    {
     "data": {
      "image/png": "[encoded data removed]",
      "text/plain": [
       "<Figure size 432x288 with 1 Axes>"
      ]
     },
     "metadata": {
      "needs_background": "light"
     },
     "output_type": "display_data"
    }
   ],
   "source": [
    "alpha_mean = np.mean(alphas_me)\n",
    "print(\"Mean of α estimates: \", alpha_mean)\n",
    "plt.hist(alphas_me, bins = 10)\n",
    "plt.gca().set(title = 'α', ylabel = 'Frequency')"
   ]
  },
  {
   "cell_type": "code",
   "execution_count": 8,
   "metadata": {},
   "outputs": [
    {
     "name": "stdout",
     "output_type": "stream",
     "text": [
      "Mean of delta estimates:  4.269690330787646\n"
     ]
    },
    {
     "data": {
      "text/plain": [
       "[Text(0.5, 1.0, 'delta'), Text(0, 0.5, 'Frequency')]"
      ]
     },
     "execution_count": 8,
     "metadata": {},
     "output_type": "execute_result"
    },
    {
     "data": {
      "image/png": "[encoded data removed]",
      "text/plain": [
       "<Figure size 432x288 with 1 Axes>"
      ]
     },
     "metadata": {
      "needs_background": "light"
     },
     "output_type": "display_data"
    }
   ],
   "source": [
    "delta_mean = np.mean(deltas_me)\n",
    "print(\"Mean of delta estimates: \", delta_mean)\n",
    "plt.hist(deltas_me, bins = 10)\n",
    "plt.gca().set(title = 'delta', ylabel = 'Frequency')"
   ]
  }
 ],
 "metadata": {
  "kernelspec": {
   "display_name": "Python 3",
   "language": "python",
   "name": "python3"
  },
  "language_info": {
   "codemirror_mode": {
    "name": "ipython",
    "version": 3
   },
   "file_extension": ".py",
   "mimetype": "text/x-python",
   "name": "python",
   "nbconvert_exporter": "python",
   "pygments_lexer": "ipython3",
   "version": "3.8.6"
  }
 },
 "nbformat": 4,
 "nbformat_minor": 4
}
