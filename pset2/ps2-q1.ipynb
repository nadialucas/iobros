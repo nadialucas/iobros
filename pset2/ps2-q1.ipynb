{
 "cells": [
  {
   "cell_type": "code",
   "execution_count": 9,
   "metadata": {},
   "outputs": [
    {
     "data": {
      "text/plain": [
       "array([[0.71179 , 0.849318],\n",
       "       [0.784577, 0.784577],\n",
       "       [0.849318, 0.71179 ]])"
      ]
     },
     "execution_count": 9,
     "metadata": {},
     "output_type": "execute_result"
    }
   ],
   "source": [
    "### Question 1.3.2\n",
    "\n",
    "# import packages\n",
    "import numpy as np\n",
    "\n",
    "# calculate fixed point conditions\n",
    "def calc_fp(p, α, δ, x):\n",
    "    f1 = np.exp(x*α - δ*p[1])/(1+np.exp(x*α - δ*p[1])) - p[0]\n",
    "    f2 = np.exp(x*α - δ*p[0])/(1+np.exp(x*α - δ*p[0])) - p[1]\n",
    "    return np.array([f1, f2])\n",
    "\n",
    "# calculate jacobian\n",
    "def calc_jac(p, α, δ, x):\n",
    "    j11 = -1\n",
    "    j12 = -δ*(np.exp(x*α - δ*p[1])/(1+np.exp(x*α - δ*p[1])))/(1+np.exp(x*α - δ*p[1]))\n",
    "    j21 = -δ*(np.exp(x*α - δ*p[0])/(1+np.exp(x*α - δ*p[0])))/(1+np.exp(x*α - δ*p[0]))\n",
    "    j22 = -1\n",
    "    j = np.array((j11, j12, j21, j22), dtype=float).reshape(2,2)\n",
    "    return j\n",
    "\n",
    "# solve using newton's method\n",
    "def newton_solver(p, α, δ, x):\n",
    "    counter = 1\n",
    "    diff = 100\n",
    "    tol = 1e-14\n",
    "    maxiter = 10000\n",
    "    p_next = p.reshape((2,1))\n",
    "    while (diff > tol and counter < maxiter):\n",
    "        p = p_next\n",
    "        f = calc_fp(p, α, δ, x)\n",
    "        j = calc_jac(p, α, δ, x)\n",
    "        p_next = p - np.linalg.inv(j)@f\n",
    "        diff = np.max(np.abs(p_next - p))\n",
    "        counter += 1\n",
    "    return p_next.flatten()\n",
    "\n",
    "# search over grid for multiple equilibria\n",
    "def find_bne(α, δ, x, sym=False):\n",
    "    looper = lambda p_guess: newton_solver(p_guess, α, δ, x)\n",
    "    grid =  np.mgrid[0:1:1e-1, 0:1:1e-1].reshape(2,-1).T\n",
    "    sols = np.round(np.apply_along_axis(looper, 1, grid),6)\n",
    "    eqs = np.unique(sols, axis=0)\n",
    "    if sym == True:\n",
    "        return eqs[np.argmin(np.abs(eqs[:,0] - eqs[:,1])), :]    \n",
    "    return eqs\n",
    "\n",
    "# results\n",
    "find_bne(1,1,1)\n",
    "find_bne(1,1,2)\n",
    "find_bne(3,6,1)\n",
    "find_bne(3,6,2)"
   ]
  },
  {
   "cell_type": "code",
   "execution_count": 24,
   "metadata": {},
   "outputs": [
    {
     "name": "stdout",
     "output_type": "stream",
     "text": [
      "[0.5 0.5] [0.784577 0.784577]\n"
     ]
    }
   ],
   "source": [
    "### Question 1.3.3\n",
    "\n",
    "# set up\n",
    "T = 1000\n",
    "S = 50\n",
    "α_set = 3\n",
    "δ_set = 6\n",
    "\n",
    "# simulate data\n",
    "def sim_sample(α,δ,T):\n",
    "    ε1 = np.random.logistic(0, 1, T*S).reshape(T,S)\n",
    "    ε2 = np.random.logistic(0, 1, T*S).reshape(T,S)\n",
    "    x = (np.random.binomial(1,.5, T*S) + 1).reshape(T,S)\n",
    "    return ε1,ε2,x\n",
    "\n",
    "ε1_sim,ε2_sim,x_sim = sim_sample(3,6,T)\n",
    "\n",
    "# probabilities for each x\n",
    "def find_prob(α, δ, sym=False):\n",
    "    p1,p2 = find_bne(α, δ, 1, sym=sym),find_bne(α, δ, 2, sym=sym)\n",
    "    return p1, p2\n",
    "\n",
    "# symmetric probabilities \n",
    "p1_sim, p2_sim = find_prob(3,6,sym=True)\n",
    "probs_sim = np.zeros((T,S))\n",
    "probs_sim[x_sim == 1] = p1_sim[0]\n",
    "probs_sim[x_sim == 2] = p2_sim[0]\n",
    "print(p1_sim, p2_sim)\n",
    "\n",
    "# y1, y2\n",
    "y1_sim = np.array(1*(-δ_set*probs_sim + α_set*x_sim + ε1_sim >= 0))\n",
    "y2_sim = np.array(1*(-δ_set*probs_sim + α_set*x_sim + ε2_sim >= 0))\n",
    "\n",
    "# log likelihood function\n",
    "def sym_lik(ω, y1, y2, x):\n",
    "    # parse ω\n",
    "    α = ω[0]\n",
    "    δ = ω[1]\n",
    "    # calculating p for each x value\n",
    "    probs = np.zeros((x.size))\n",
    "    p_x1, p_x2 = findps(α, δ, sym=True)\n",
    "    probs[x==1] = p_x1[0]\n",
    "    probs[x==2] = p_x2[0]\n",
    "    # likelihood per market\n",
    "    ll1 = y1*np.log(np.exp(δ*probs - α*x)/(1+np.exp(δ*probs - α*x))) + (1-y1)*np.log(1/(1+np.exp(δ*probs - α*x )))\n",
    "    ll2 = y2*np.log(np.exp(δ*probs - α*x)/(1+np.exp(δ*probs - α*x))) + (1-y2)*np.log(1/(1+np.exp(δ*probs - α*x )))\n",
    "    ll = ll1 + ll2  \n",
    "    return -np.sum(ll)\n",
    "\n",
    "# how to optimize?"
   ]
  },
  {
   "cell_type": "code",
   "execution_count": null,
   "metadata": {},
   "outputs": [],
   "source": []
  },
  {
   "cell_type": "code",
   "execution_count": null,
   "metadata": {},
   "outputs": [],
   "source": []
  },
  {
   "cell_type": "code",
   "execution_count": null,
   "metadata": {},
   "outputs": [],
   "source": []
  }
 ],
 "metadata": {
  "kernelspec": {
   "display_name": "Python 3",
   "language": "python",
   "name": "python3"
  },
  "language_info": {
   "codemirror_mode": {
    "name": "ipython",
    "version": 3
   },
   "file_extension": ".py",
   "mimetype": "text/x-python",
   "name": "python",
   "nbconvert_exporter": "python",
   "pygments_lexer": "ipython3",
   "version": "3.8.5"
  }
 },
 "nbformat": 4,
 "nbformat_minor": 4
}
